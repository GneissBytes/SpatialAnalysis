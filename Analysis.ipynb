{
 "cells": [
  {
   "cell_type": "code",
   "execution_count": 1,
   "metadata": {},
   "outputs": [
    {
     "name": "stdout",
     "output_type": "stream",
     "text": [
      "Libraries imported.\n"
     ]
    }
   ],
   "source": [
    "import numpy as np # library to handle data in a vectorized manner\n",
    "import pandas as pd # library for data analsysis\n",
    "pd.set_option('display.max_columns', None)\n",
    "pd.set_option('display.max_rows', None)\n",
    "import requests # library to handle requests\n",
    "from pandas.io.json import json_normalize # tranform JSON file into a pandas dataframe\n",
    "import folium # map rendering library\n",
    "import matplotlib.pyplot as plt\n",
    "import matplotlib.cm as cm\n",
    "import matplotlib.colors as colors\n",
    "from pandas.io.json import json_normalize # tranform JSON file into a pandas dataframe\n",
    "%matplotlib inline\n",
    "from geopy.geocoders import Nominatim\n",
    "from scipy.spatial.distance import pdist\n",
    "import seaborn as sns\n",
    "print('Libraries imported.')"
   ]
  },
  {
   "cell_type": "code",
   "execution_count": 3,
   "metadata": {},
   "outputs": [
    {
     "name": "stdout",
     "output_type": "stream",
     "text": [
      "Your credentails:\n",
      "CLIENT_ID: DS3TISPLJMMRCPFQ1ZXU2XSLNEJWLUSBVQCT24JMM0POEXIM\n",
      "CLIENT_SECRET:TFVW1F5H2IIGPE2IKNHEZRGBTEJB2Q5V4FAX0PR353ULY3FO\n"
     ]
    }
   ],
   "source": [
    "CLIENT_ID = 'DS3TISPLJMMRCPFQ1ZXU2XSLNEJWLUSBVQCT24JMM0POEXIM' # your Foursquare ID\n",
    "CLIENT_SECRET = 'TFVW1F5H2IIGPE2IKNHEZRGBTEJB2Q5V4FAX0PR353ULY3FO' # your Foursquare Secret\n",
    "VERSION = '20180605' # Foursquare API version\n",
    "\n",
    "print('Your credentails:')\n",
    "print('CLIENT_ID: ' + CLIENT_ID)\n",
    "print('CLIENT_SECRET:' + CLIENT_SECRET)"
   ]
  },
  {
   "cell_type": "code",
   "execution_count": 4,
   "metadata": {},
   "outputs": [],
   "source": [
    "LIMIT = 100 \n",
    "cities = ['Cracow', 'Poznan', 'Warsaw', 'Wroclaw']\n",
    "results = {}\n",
    "for city in cities:\n",
    "    url = 'https://api.foursquare.com/v2/venues/explore?&client_id={}&client_secret={}&v={}&near={}&limit={}&categoryId={}'.format(\n",
    "        CLIENT_ID, \n",
    "        CLIENT_SECRET, \n",
    "        VERSION, \n",
    "        city,\n",
    "        LIMIT,\n",
    "        \"4bf58dd8d48988d1e7931735,4bf58dd8d48988d1e9931735,4bf58dd8d48988d1fe941735\") # PIZZA PLACE CATEGORY ID\n",
    "    results[city] = requests.get(url).json()\n"
   ]
  },
  {
   "cell_type": "code",
   "execution_count": 30,
   "metadata": {},
   "outputs": [
    {
     "ename": "KeyError",
     "evalue": "\"['categories'] not in index\"",
     "output_type": "error",
     "traceback": [
      "\u001b[1;31m---------------------------------------------------------------------------\u001b[0m",
      "\u001b[1;31mKeyError\u001b[0m                                  Traceback (most recent call last)",
      "\u001b[1;32m<ipython-input-30-94710f176b7a>\u001b[0m in \u001b[0;36m<module>\u001b[1;34m()\u001b[0m\n\u001b[0;32m      2\u001b[0m \u001b[1;32mfor\u001b[0m \u001b[0mcity\u001b[0m \u001b[1;32min\u001b[0m \u001b[0mcities\u001b[0m\u001b[1;33m:\u001b[0m\u001b[1;33m\u001b[0m\u001b[0m\n\u001b[0;32m      3\u001b[0m     \u001b[0mvenues\u001b[0m \u001b[1;33m=\u001b[0m \u001b[0mjson_normalize\u001b[0m\u001b[1;33m(\u001b[0m\u001b[0mresults\u001b[0m\u001b[1;33m[\u001b[0m\u001b[0mcity\u001b[0m\u001b[1;33m]\u001b[0m\u001b[1;33m[\u001b[0m\u001b[1;34m'response'\u001b[0m\u001b[1;33m]\u001b[0m\u001b[1;33m[\u001b[0m\u001b[1;34m'groups'\u001b[0m\u001b[1;33m]\u001b[0m\u001b[1;33m[\u001b[0m\u001b[1;36m0\u001b[0m\u001b[1;33m]\u001b[0m\u001b[1;33m[\u001b[0m\u001b[1;34m'items'\u001b[0m\u001b[1;33m]\u001b[0m\u001b[1;33m)\u001b[0m\u001b[1;33m\u001b[0m\u001b[0m\n\u001b[1;32m----> 4\u001b[1;33m     \u001b[0mdf_venues\u001b[0m\u001b[1;33m[\u001b[0m\u001b[0mcity\u001b[0m\u001b[1;33m]\u001b[0m \u001b[1;33m=\u001b[0m \u001b[0mvenues\u001b[0m\u001b[1;33m[\u001b[0m\u001b[1;33m[\u001b[0m\u001b[1;34m'venue.name'\u001b[0m\u001b[1;33m,\u001b[0m \u001b[1;34m'venue.location.address'\u001b[0m\u001b[1;33m,\u001b[0m\u001b[1;34m'categories'\u001b[0m\u001b[1;33m,\u001b[0m\u001b[1;34m'venue.id'\u001b[0m\u001b[1;33m,\u001b[0m \u001b[1;34m'venue.location.lat'\u001b[0m\u001b[1;33m,\u001b[0m \u001b[1;34m'venue.location.lng'\u001b[0m\u001b[1;33m]\u001b[0m\u001b[1;33m]\u001b[0m\u001b[1;33m\u001b[0m\u001b[0m\n\u001b[0m\u001b[0;32m      5\u001b[0m     \u001b[0mdf_venues\u001b[0m\u001b[1;33m[\u001b[0m\u001b[0mcity\u001b[0m\u001b[1;33m]\u001b[0m\u001b[1;33m.\u001b[0m\u001b[0mcolumns\u001b[0m \u001b[1;33m=\u001b[0m \u001b[1;33m[\u001b[0m\u001b[1;34m'Name'\u001b[0m\u001b[1;33m,\u001b[0m \u001b[1;34m'Address'\u001b[0m\u001b[1;33m,\u001b[0m\u001b[1;34m'Category'\u001b[0m\u001b[1;33m,\u001b[0m\u001b[1;34m'VenueID'\u001b[0m\u001b[1;33m,\u001b[0m \u001b[1;34m'Lat'\u001b[0m\u001b[1;33m,\u001b[0m \u001b[1;34m'Lng'\u001b[0m\u001b[1;33m]\u001b[0m\u001b[1;33m\u001b[0m\u001b[0m\n",
      "\u001b[1;32mD:\\Anaconda\\lib\\site-packages\\pandas\\core\\frame.py\u001b[0m in \u001b[0;36m__getitem__\u001b[1;34m(self, key)\u001b[0m\n\u001b[0;32m   2131\u001b[0m         \u001b[1;32mif\u001b[0m \u001b[0misinstance\u001b[0m\u001b[1;33m(\u001b[0m\u001b[0mkey\u001b[0m\u001b[1;33m,\u001b[0m \u001b[1;33m(\u001b[0m\u001b[0mSeries\u001b[0m\u001b[1;33m,\u001b[0m \u001b[0mnp\u001b[0m\u001b[1;33m.\u001b[0m\u001b[0mndarray\u001b[0m\u001b[1;33m,\u001b[0m \u001b[0mIndex\u001b[0m\u001b[1;33m,\u001b[0m \u001b[0mlist\u001b[0m\u001b[1;33m)\u001b[0m\u001b[1;33m)\u001b[0m\u001b[1;33m:\u001b[0m\u001b[1;33m\u001b[0m\u001b[0m\n\u001b[0;32m   2132\u001b[0m             \u001b[1;31m# either boolean or fancy integer index\u001b[0m\u001b[1;33m\u001b[0m\u001b[1;33m\u001b[0m\u001b[0m\n\u001b[1;32m-> 2133\u001b[1;33m             \u001b[1;32mreturn\u001b[0m \u001b[0mself\u001b[0m\u001b[1;33m.\u001b[0m\u001b[0m_getitem_array\u001b[0m\u001b[1;33m(\u001b[0m\u001b[0mkey\u001b[0m\u001b[1;33m)\u001b[0m\u001b[1;33m\u001b[0m\u001b[0m\n\u001b[0m\u001b[0;32m   2134\u001b[0m         \u001b[1;32melif\u001b[0m \u001b[0misinstance\u001b[0m\u001b[1;33m(\u001b[0m\u001b[0mkey\u001b[0m\u001b[1;33m,\u001b[0m \u001b[0mDataFrame\u001b[0m\u001b[1;33m)\u001b[0m\u001b[1;33m:\u001b[0m\u001b[1;33m\u001b[0m\u001b[0m\n\u001b[0;32m   2135\u001b[0m             \u001b[1;32mreturn\u001b[0m \u001b[0mself\u001b[0m\u001b[1;33m.\u001b[0m\u001b[0m_getitem_frame\u001b[0m\u001b[1;33m(\u001b[0m\u001b[0mkey\u001b[0m\u001b[1;33m)\u001b[0m\u001b[1;33m\u001b[0m\u001b[0m\n",
      "\u001b[1;32mD:\\Anaconda\\lib\\site-packages\\pandas\\core\\frame.py\u001b[0m in \u001b[0;36m_getitem_array\u001b[1;34m(self, key)\u001b[0m\n\u001b[0;32m   2175\u001b[0m             \u001b[1;32mreturn\u001b[0m \u001b[0mself\u001b[0m\u001b[1;33m.\u001b[0m\u001b[0m_take\u001b[0m\u001b[1;33m(\u001b[0m\u001b[0mindexer\u001b[0m\u001b[1;33m,\u001b[0m \u001b[0maxis\u001b[0m\u001b[1;33m=\u001b[0m\u001b[1;36m0\u001b[0m\u001b[1;33m,\u001b[0m \u001b[0mconvert\u001b[0m\u001b[1;33m=\u001b[0m\u001b[1;32mFalse\u001b[0m\u001b[1;33m)\u001b[0m\u001b[1;33m\u001b[0m\u001b[0m\n\u001b[0;32m   2176\u001b[0m         \u001b[1;32melse\u001b[0m\u001b[1;33m:\u001b[0m\u001b[1;33m\u001b[0m\u001b[0m\n\u001b[1;32m-> 2177\u001b[1;33m             \u001b[0mindexer\u001b[0m \u001b[1;33m=\u001b[0m \u001b[0mself\u001b[0m\u001b[1;33m.\u001b[0m\u001b[0mloc\u001b[0m\u001b[1;33m.\u001b[0m\u001b[0m_convert_to_indexer\u001b[0m\u001b[1;33m(\u001b[0m\u001b[0mkey\u001b[0m\u001b[1;33m,\u001b[0m \u001b[0maxis\u001b[0m\u001b[1;33m=\u001b[0m\u001b[1;36m1\u001b[0m\u001b[1;33m)\u001b[0m\u001b[1;33m\u001b[0m\u001b[0m\n\u001b[0m\u001b[0;32m   2178\u001b[0m             \u001b[1;32mreturn\u001b[0m \u001b[0mself\u001b[0m\u001b[1;33m.\u001b[0m\u001b[0m_take\u001b[0m\u001b[1;33m(\u001b[0m\u001b[0mindexer\u001b[0m\u001b[1;33m,\u001b[0m \u001b[0maxis\u001b[0m\u001b[1;33m=\u001b[0m\u001b[1;36m1\u001b[0m\u001b[1;33m,\u001b[0m \u001b[0mconvert\u001b[0m\u001b[1;33m=\u001b[0m\u001b[1;32mTrue\u001b[0m\u001b[1;33m)\u001b[0m\u001b[1;33m\u001b[0m\u001b[0m\n\u001b[0;32m   2179\u001b[0m \u001b[1;33m\u001b[0m\u001b[0m\n",
      "\u001b[1;32mD:\\Anaconda\\lib\\site-packages\\pandas\\core\\indexing.py\u001b[0m in \u001b[0;36m_convert_to_indexer\u001b[1;34m(self, obj, axis, is_setter)\u001b[0m\n\u001b[0;32m   1267\u001b[0m                 \u001b[1;32mif\u001b[0m \u001b[0mmask\u001b[0m\u001b[1;33m.\u001b[0m\u001b[0many\u001b[0m\u001b[1;33m(\u001b[0m\u001b[1;33m)\u001b[0m\u001b[1;33m:\u001b[0m\u001b[1;33m\u001b[0m\u001b[0m\n\u001b[0;32m   1268\u001b[0m                     raise KeyError('{mask} not in index'\n\u001b[1;32m-> 1269\u001b[1;33m                                    .format(mask=objarr[mask]))\n\u001b[0m\u001b[0;32m   1270\u001b[0m \u001b[1;33m\u001b[0m\u001b[0m\n\u001b[0;32m   1271\u001b[0m                 \u001b[1;32mreturn\u001b[0m \u001b[0m_values_from_object\u001b[0m\u001b[1;33m(\u001b[0m\u001b[0mindexer\u001b[0m\u001b[1;33m)\u001b[0m\u001b[1;33m\u001b[0m\u001b[0m\n",
      "\u001b[1;31mKeyError\u001b[0m: \"['categories'] not in index\""
     ]
    }
   ],
   "source": [
    "df_venues={}\n",
    "for city in cities:\n",
    "    venues = json_normalize(results[city]['response']['groups'][0]['items'])\n",
    "    df_venues[city] = venues[['venue.name', 'venue.location.address','categories','venue.id', 'venue.location.lat', 'venue.location.lng']]\n",
    "    df_venues[city].columns = ['Name', 'Address','Category','VenueID', 'Lat', 'Lng']"
   ]
  },
  {
   "cell_type": "code",
   "execution_count": 38,
   "metadata": {},
   "outputs": [
    {
     "data": {
      "text/plain": [
       "[{'icon': {'prefix': 'https://ss3.4sqi.net/img/categories_v2/arts_entertainment/musicvenue_jazzclub_',\n",
       "   'suffix': '.png'},\n",
       "  'id': '4bf58dd8d48988d1e7931735',\n",
       "  'name': 'Jazz Club',\n",
       "  'pluralName': 'Jazz Clubs',\n",
       "  'primary': True,\n",
       "  'shortName': 'Jazz Club'}]"
      ]
     },
     "execution_count": 38,
     "metadata": {},
     "output_type": "execute_result"
    }
   ],
   "source": [
    "venues = json_normalize(results[city]['response']['groups'][0]['items'])\n",
    "venues['venue.categories'][0]"
   ]
  },
  {
   "cell_type": "code",
   "execution_count": 12,
   "metadata": {},
   "outputs": [
    {
     "name": "stdout",
     "output_type": "stream",
     "text": [
      "Total number of music clubs and stores in Cracow =  15\n",
      "Showing Top 100\n",
      "Total number of music clubs and stores in Poznan =  5\n",
      "Showing Top 100\n",
      "Total number of music clubs and stores in Warsaw =  26\n",
      "Showing Top 100\n",
      "Total number of music clubs and stores in Wroclaw =  8\n",
      "Showing Top 100\n"
     ]
    }
   ],
   "source": [
    "geolocator = Nominatim(user_agent=\"capstone\")\n",
    "maps= {}\n",
    "for city in cities:\n",
    "    location = geolocator.geocode(city + ', Poland')\n",
    "    city_lat = location.latitude\n",
    "    city_lng = location.longitude\n",
    "    maps[city] = folium.Map(location=[city_lat, city_lng], zoom_start=12)\n",
    "\n",
    "    # add markers to map\n",
    "    for lat, lng, label in zip(df_venues[city]['Lat'], df_venues[city]['Lng'], df_venues[city]['Name']):\n",
    "        label = folium.Popup(label, parse_html=True)\n",
    "        folium.CircleMarker(\n",
    "            [lat, lng],\n",
    "            radius=5,\n",
    "            popup=label,\n",
    "            color='blue',\n",
    "            fill=True,\n",
    "            fill_color='#3186cc',\n",
    "            fill_opacity=0.7,\n",
    "            parse_html=False).add_to(maps[city])  \n",
    "    print(f\"Total number of music clubs and stores in {city} = \", results[city]['response']['totalResults'])\n",
    "    print(\"Showing Top 100\")"
   ]
  },
  {
   "cell_type": "markdown",
   "metadata": {},
   "source": [
    "Cracow"
   ]
  },
  {
   "cell_type": "code",
   "execution_count": 13,
   "metadata": {},
   "outputs": [
    {
     "data": {
      "text/html": [
       "<div style=\"width:100%;\"><div style=\"position:relative;width:100%;height:0;padding-bottom:60%;\"><iframe src=\"data:text/html;charset=utf-8;base64,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\" style=\"position:absolute;width:100%;height:100%;left:0;top:0;border:none !important;\" allowfullscreen webkitallowfullscreen mozallowfullscreen></iframe></div></div>"
      ],
      "text/plain": [
       "<folium.folium.Map at 0x2a1a8345f60>"
      ]
     },
     "execution_count": 13,
     "metadata": {},
     "output_type": "execute_result"
    }
   ],
   "source": [
    "maps[cities[0]]"
   ]
  },
  {
   "cell_type": "markdown",
   "metadata": {},
   "source": [
    "Poznan"
   ]
  },
  {
   "cell_type": "code",
   "execution_count": 14,
   "metadata": {},
   "outputs": [
    {
     "data": {
      "text/html": [
       "<div style=\"width:100%;\"><div style=\"position:relative;width:100%;height:0;padding-bottom:60%;\"><iframe src=\"data:text/html;charset=utf-8;base64,PCFET0NUWVBFIGh0bWw+CjxoZWFkPiAgICAKICAgIDxtZXRhIGh0dHAtZXF1aXY9ImNvbnRlbnQtdHlwZSIgY29udGVudD0idGV4dC9odG1sOyBjaGFyc2V0PVVURi04IiAvPgogICAgCiAgICAgICAgPHNjcmlwdD4KICAgICAgICAgICAgTF9OT19UT1VDSCA9IGZhbHNlOwogICAgICAgICAgICBMX0RJU0FCTEVfM0QgPSBmYWxzZTsKICAgICAgICA8L3NjcmlwdD4KICAgIAogICAgPHNjcmlwdCBzcmM9Imh0dHBzOi8vY2RuLmpzZGVsaXZyLm5ldC9ucG0vbGVhZmxldEAxLjUuMS9kaXN0L2xlYWZsZXQuanMiPjwvc2NyaXB0PgogICAgPHNjcmlwdCBzcmM9Imh0dHBzOi8vY29kZS5qcXVlcnkuY29tL2pxdWVyeS0xLjEyLjQubWluLmpzIj48L3NjcmlwdD4KICAgIDxzY3JpcHQgc3JjPSJodHRwczovL21heGNkbi5ib290c3RyYXBjZG4uY29tL2Jvb3RzdHJhcC8zLjIuMC9qcy9ib290c3RyYXAubWluLmpzIj48L3NjcmlwdD4KICAgIDxzY3JpcHQgc3JjPSJodHRwczovL2NkbmpzLmNsb3VkZmxhcmUuY29tL2FqYXgvbGlicy9MZWFmbGV0LmF3ZXNvbWUtbWFya2Vycy8yLjAuMi9sZWFmbGV0LmF3ZXNvbWUtbWFya2Vycy5qcyI+PC9zY3JpcHQ+CiAgICA8bGluayByZWw9InN0eWxlc2hlZXQiIGhyZWY9Imh0dHBzOi8vY2RuLmpzZGVsaXZyLm5ldC9ucG0vbGVhZmxldEAxLjUuMS9kaXN0L2xlYWZsZXQuY3NzIi8+CiAgICA8bGluayByZWw9InN0eWxlc2hlZXQiIGhyZWY9Imh0dHBzOi8vbWF4Y2RuLmJvb3RzdHJhcGNkbi5jb20vYm9vdHN0cmFwLzMuMi4wL2Nzcy9ib290c3RyYXAubWluLmNzcyIvPgogICAgPGxpbmsgcmVsPSJzdHlsZXNoZWV0IiBocmVmPSJodHRwczovL21heGNkbi5ib290c3RyYXBjZG4uY29tL2Jvb3RzdHJhcC8zLjIuMC9jc3MvYm9vdHN0cmFwLXRoZW1lLm1pbi5jc3MiLz4KICAgIDxsaW5rIHJlbD0ic3R5bGVzaGVldCIgaHJlZj0iaHR0cHM6Ly9tYXhjZG4uYm9vdHN0cmFwY2RuLmNvbS9mb250LWF3ZXNvbWUvNC42LjMvY3NzL2ZvbnQtYXdlc29tZS5taW4uY3NzIi8+CiAgICA8bGluayByZWw9InN0eWxlc2hlZXQiIGhyZWY9Imh0dHBzOi8vY2RuanMuY2xvdWRmbGFyZS5jb20vYWpheC9saWJzL0xlYWZsZXQuYXdlc29tZS1tYXJrZXJzLzIuMC4yL2xlYWZsZXQuYXdlc29tZS1tYXJrZXJzLmNzcyIvPgogICAgPGxpbmsgcmVsPSJzdHlsZXNoZWV0IiBocmVmPSJodHRwczovL3Jhd2Nkbi5naXRoYWNrLmNvbS9weXRob24tdmlzdWFsaXphdGlvbi9mb2xpdW0vbWFzdGVyL2ZvbGl1bS90ZW1wbGF0ZXMvbGVhZmxldC5hd2Vzb21lLnJvdGF0ZS5jc3MiLz4KICAgIDxzdHlsZT5odG1sLCBib2R5IHt3aWR0aDogMTAwJTtoZWlnaHQ6IDEwMCU7bWFyZ2luOiAwO3BhZGRpbmc6IDA7fTwvc3R5bGU+CiAgICA8c3R5bGU+I21hcCB7cG9zaXRpb246YWJzb2x1dGU7dG9wOjA7Ym90dG9tOjA7cmlnaHQ6MDtsZWZ0OjA7fTwvc3R5bGU+CiAgICAKICAgICAgICAgICAgPG1ldGEgbmFtZT0idmlld3BvcnQiIGNvbnRlbnQ9IndpZHRoPWRldmljZS13aWR0aCwKICAgICAgICAgICAgICAgIGluaXRpYWwtc2NhbGU9MS4wLCBtYXhpbXVtLXNjYWxlPTEuMCwgdXNlci1zY2FsYWJsZT1ubyIgLz4KICAgICAgICAgICAgPHN0eWxlPgogICAgICAgICAgICAgICAgI21hcF9hYjY0ZTE2M2Q4MGM0NTQyYTdhMDFjOWUzNWRlMGVhMiB7CiAgICAgICAgICAgICAgICAgICAgcG9zaXRpb246IHJlbGF0aXZlOwogICAgICAgICAgICAgICAgICAgIHdpZHRoOiAxMDAuMCU7CiAgICAgICAgICAgICAgICAgICAgaGVpZ2h0OiAxMDAuMCU7CiAgICAgICAgICAgICAgICAgICAgbGVmdDogMC4wJTsKICAgICAgICAgICAgICAgICAgICB0b3A6IDAuMCU7CiAgICAgICAgICAgICAgICB9CiAgICAgICAgICAgIDwvc3R5bGU+CiAgICAgICAgCjwvaGVhZD4KPGJvZHk+ICAgIAogICAgCiAgICAgICAgICAgIDxkaXYgY2xhc3M9ImZvbGl1bS1tYXAiIGlkPSJtYXBfYWI2NGUxNjNkODBjNDU0MmE3YTAxYzllMzVkZTBlYTIiID48L2Rpdj4KICAgICAgICAKPC9ib2R5Pgo8c2NyaXB0PiAgICAKICAgIAogICAgICAgICAgICB2YXIgbWFwX2FiNjRlMTYzZDgwYzQ1NDJhN2EwMWM5ZTM1ZGUwZWEyID0gTC5tYXAoCiAgICAgICAgICAgICAgICAibWFwX2FiNjRlMTYzZDgwYzQ1NDJhN2EwMWM5ZTM1ZGUwZWEyIiwKICAgICAgICAgICAgICAgIHsKICAgICAgICAgICAgICAgICAgICBjZW50ZXI6IFs1Mi40MDA2MzIxNSwgMTYuOTE5Nzg2OTQyODc2MV0sCiAgICAgICAgICAgICAgICAgICAgY3JzOiBMLkNSUy5FUFNHMzg1NywKICAgICAgICAgICAgICAgICAgICB6b29tOiAxMiwKICAgICAgICAgICAgICAgICAgICB6b29tQ29udHJvbDogdHJ1ZSwKICAgICAgICAgICAgICAgICAgICBwcmVmZXJDYW52YXM6IGZhbHNlLAogICAgICAgICAgICAgICAgfQogICAgICAgICAgICApOwoKICAgICAgICAgICAgCgogICAgICAgIAogICAgCiAgICAgICAgICAgIHZhciB0aWxlX2xheWVyXzM1Yzg1ZDRhNTk4OTQ1NDdiNjAyNWNiZGFiYTlmYzViID0gTC50aWxlTGF5ZXIoCiAgICAgICAgICAgICAgICAiaHR0cHM6Ly97c30udGlsZS5vcGVuc3RyZWV0bWFwLm9yZy97en0ve3h9L3t5fS5wbmciLAogICAgICAgICAgICAgICAgeyJhdHRyaWJ1dGlvbiI6ICJEYXRhIGJ5IFx1MDAyNmNvcHk7IFx1MDAzY2EgaHJlZj1cImh0dHA6Ly9vcGVuc3RyZWV0bWFwLm9yZ1wiXHUwMDNlT3BlblN0cmVldE1hcFx1MDAzYy9hXHUwMDNlLCB1bmRlciBcdTAwM2NhIGhyZWY9XCJodHRwOi8vd3d3Lm9wZW5zdHJlZXRtYXAub3JnL2NvcHlyaWdodFwiXHUwMDNlT0RiTFx1MDAzYy9hXHUwMDNlLiIsICJkZXRlY3RSZXRpbmEiOiBmYWxzZSwgIm1heE5hdGl2ZVpvb20iOiAxOCwgIm1heFpvb20iOiAxOCwgIm1pblpvb20iOiAwLCAibm9XcmFwIjogZmFsc2UsICJvcGFjaXR5IjogMSwgInN1YmRvbWFpbnMiOiAiYWJjIiwgInRtcyI6IGZhbHNlfQogICAgICAgICAgICApLmFkZFRvKG1hcF9hYjY0ZTE2M2Q4MGM0NTQyYTdhMDFjOWUzNWRlMGVhMik7CiAgICAgICAgCiAgICAKICAgICAgICAgICAgdmFyIGNpcmNsZV9tYXJrZXJfZjkyNTUyMjNlNzY3NGMyNGJhZTY5ODZhOTkzMmZmZDUgPSBMLmNpcmNsZU1hcmtlcigKICAgICAgICAgICAgICAgIFs1Mi40MDgzNTIyNTIyMjMzNiwgMTYuOTE5NDExMTI1Mjg2NDYyXSwKICAgICAgICAgICAgICAgIHsiYnViYmxpbmdNb3VzZUV2ZW50cyI6IHRydWUsICJjb2xvciI6ICJibHVlIiwgImRhc2hBcnJheSI6IG51bGwsICJkYXNoT2Zmc2V0IjogbnVsbCwgImZpbGwiOiB0cnVlLCAiZmlsbENvbG9yIjogIiMzMTg2Y2MiLCAiZmlsbE9wYWNpdHkiOiAwLjcsICJmaWxsUnVsZSI6ICJldmVub2RkIiwgImxpbmVDYXAiOiAicm91bmQiLCAibGluZUpvaW4iOiAicm91bmQiLCAib3BhY2l0eSI6IDEuMCwgInJhZGl1cyI6IDUsICJzdHJva2UiOiB0cnVlLCAid2VpZ2h0IjogM30KICAgICAgICAgICAgKS5hZGRUbyhtYXBfYWI2NGUxNjNkODBjNDU0MmE3YTAxYzllMzVkZTBlYTIpOwogICAgICAgIAogICAgCiAgICAgICAgdmFyIHBvcHVwXzcxNzc1ZGI3NDU3MjRhM2RhYmRmYWVkOGQxYmM1Yjg1ID0gTC5wb3B1cCh7Im1heFdpZHRoIjogIjEwMCUifSk7CgogICAgICAgIAogICAgICAgICAgICB2YXIgaHRtbF80OGUzMGY1MTM4NWE0YmRiOWQyZjFhNDg4YmZjM2NjMyA9ICQoYDxkaXYgaWQ9Imh0bWxfNDhlMzBmNTEzODVhNGJkYjlkMmYxYTQ4OGJmYzNjYzMiIHN0eWxlPSJ3aWR0aDogMTAwLjAlOyBoZWlnaHQ6IDEwMC4wJTsiPkJsdWUgTm90ZTwvZGl2PmApWzBdOwogICAgICAgICAgICBwb3B1cF83MTc3NWRiNzQ1NzI0YTNkYWJkZmFlZDhkMWJjNWI4NS5zZXRDb250ZW50KGh0bWxfNDhlMzBmNTEzODVhNGJkYjlkMmYxYTQ4OGJmYzNjYzMpOwogICAgICAgIAoKICAgICAgICBjaXJjbGVfbWFya2VyX2Y5MjU1MjIzZTc2NzRjMjRiYWU2OTg2YTk5MzJmZmQ1LmJpbmRQb3B1cChwb3B1cF83MTc3NWRiNzQ1NzI0YTNkYWJkZmFlZDhkMWJjNWI4NSkKICAgICAgICA7CgogICAgICAgIAogICAgCiAgICAKICAgICAgICAgICAgdmFyIGNpcmNsZV9tYXJrZXJfNzliMGY2NTBjZGU5NDJjZjk0ZDA5ZTEyNzViMDAyMjMgPSBMLmNpcmNsZU1hcmtlcigKICAgICAgICAgICAgICAgIFs1Mi40MTU4OTcyMzY5NTQ5NywgMTYuOTEzMTU4Nzc4Mzg4NjAzXSwKICAgICAgICAgICAgICAgIHsiYnViYmxpbmdNb3VzZUV2ZW50cyI6IHRydWUsICJjb2xvciI6ICJibHVlIiwgImRhc2hBcnJheSI6IG51bGwsICJkYXNoT2Zmc2V0IjogbnVsbCwgImZpbGwiOiB0cnVlLCAiZmlsbENvbG9yIjogIiMzMTg2Y2MiLCAiZmlsbE9wYWNpdHkiOiAwLjcsICJmaWxsUnVsZSI6ICJldmVub2RkIiwgImxpbmVDYXAiOiAicm91bmQiLCAibGluZUpvaW4iOiAicm91bmQiLCAib3BhY2l0eSI6IDEuMCwgInJhZGl1cyI6IDUsICJzdHJva2UiOiB0cnVlLCAid2VpZ2h0IjogM30KICAgICAgICAgICAgKS5hZGRUbyhtYXBfYWI2NGUxNjNkODBjNDU0MmE3YTAxYzllMzVkZTBlYTIpOwogICAgICAgIAogICAgCiAgICAgICAgdmFyIHBvcHVwX2JkYjcwYWJiNjY5MzRiYTBiNzUxMTQ4MjRhMjZjOWVhID0gTC5wb3B1cCh7Im1heFdpZHRoIjogIjEwMCUifSk7CgogICAgICAgIAogICAgICAgICAgICB2YXIgaHRtbF9mMmRlZTQ3NjA4OWQ0ODljYjNlYzJhYzJmNzkyZDU5YSA9ICQoYDxkaXYgaWQ9Imh0bWxfZjJkZWU0NzYwODlkNDg5Y2IzZWMyYWMyZjc5MmQ1OWEiIHN0eWxlPSJ3aWR0aDogMTAwLjAlOyBoZWlnaHQ6IDEwMC4wJTsiPlUgQmF6eWxhPC9kaXY+YClbMF07CiAgICAgICAgICAgIHBvcHVwX2JkYjcwYWJiNjY5MzRiYTBiNzUxMTQ4MjRhMjZjOWVhLnNldENvbnRlbnQoaHRtbF9mMmRlZTQ3NjA4OWQ0ODljYjNlYzJhYzJmNzkyZDU5YSk7CiAgICAgICAgCgogICAgICAgIGNpcmNsZV9tYXJrZXJfNzliMGY2NTBjZGU5NDJjZjk0ZDA5ZTEyNzViMDAyMjMuYmluZFBvcHVwKHBvcHVwX2JkYjcwYWJiNjY5MzRiYTBiNzUxMTQ4MjRhMjZjOWVhKQogICAgICAgIDsKCiAgICAgICAgCiAgICAKICAgIAogICAgICAgICAgICB2YXIgY2lyY2xlX21hcmtlcl9hMTNkNzdiZjA4ODA0NTI4YTZjNTNjOGUyODliYWFiYyA9IEwuY2lyY2xlTWFya2VyKAogICAgICAgICAgICAgICAgWzUyLjQwMTU5MTExNTU5NDIxNSwgMTYuOTE0MjkyNTY5MDc5ODFdLAogICAgICAgICAgICAgICAgeyJidWJibGluZ01vdXNlRXZlbnRzIjogdHJ1ZSwgImNvbG9yIjogImJsdWUiLCAiZGFzaEFycmF5IjogbnVsbCwgImRhc2hPZmZzZXQiOiBudWxsLCAiZmlsbCI6IHRydWUsICJmaWxsQ29sb3IiOiAiIzMxODZjYyIsICJmaWxsT3BhY2l0eSI6IDAuNywgImZpbGxSdWxlIjogImV2ZW5vZGQiLCAibGluZUNhcCI6ICJyb3VuZCIsICJsaW5lSm9pbiI6ICJyb3VuZCIsICJvcGFjaXR5IjogMS4wLCAicmFkaXVzIjogNSwgInN0cm9rZSI6IHRydWUsICJ3ZWlnaHQiOiAzfQogICAgICAgICAgICApLmFkZFRvKG1hcF9hYjY0ZTE2M2Q4MGM0NTQyYTdhMDFjOWUzNWRlMGVhMik7CiAgICAgICAgCiAgICAKICAgICAgICB2YXIgcG9wdXBfMDBjOWUzYzViNWRhNGY4YzhhNjRhNWI5ODIxNjI5YjAgPSBMLnBvcHVwKHsibWF4V2lkdGgiOiAiMTAwJSJ9KTsKCiAgICAgICAgCiAgICAgICAgICAgIHZhciBodG1sXzgzZDA2MzQwNDhhOTQyZmM5Yzc2OWMyYjMzNzE5ZDNhID0gJChgPGRpdiBpZD0iaHRtbF84M2QwNjM0MDQ4YTk0MmZjOWM3NjljMmIzMzcxOWQzYSIgc3R5bGU9IndpZHRoOiAxMDAuMCU7IGhlaWdodDogMTAwLjAlOyI+RW1waWs8L2Rpdj5gKVswXTsKICAgICAgICAgICAgcG9wdXBfMDBjOWUzYzViNWRhNGY4YzhhNjRhNWI5ODIxNjI5YjAuc2V0Q29udGVudChodG1sXzgzZDA2MzQwNDhhOTQyZmM5Yzc2OWMyYjMzNzE5ZDNhKTsKICAgICAgICAKCiAgICAgICAgY2lyY2xlX21hcmtlcl9hMTNkNzdiZjA4ODA0NTI4YTZjNTNjOGUyODliYWFiYy5iaW5kUG9wdXAocG9wdXBfMDBjOWUzYzViNWRhNGY4YzhhNjRhNWI5ODIxNjI5YjApCiAgICAgICAgOwoKICAgICAgICAKICAgIAogICAgCiAgICAgICAgICAgIHZhciBjaXJjbGVfbWFya2VyXzVmYzMxNDE5ZDI1NDQxMjY5NzEyM2JjNDE3N2VkNTA1ID0gTC5jaXJjbGVNYXJrZXIoCiAgICAgICAgICAgICAgICBbNTIuNDE2NTE5LCAxNi45MTEzNDFdLAogICAgICAgICAgICAgICAgeyJidWJibGluZ01vdXNlRXZlbnRzIjogdHJ1ZSwgImNvbG9yIjogImJsdWUiLCAiZGFzaEFycmF5IjogbnVsbCwgImRhc2hPZmZzZXQiOiBudWxsLCAiZmlsbCI6IHRydWUsICJmaWxsQ29sb3IiOiAiIzMxODZjYyIsICJmaWxsT3BhY2l0eSI6IDAuNywgImZpbGxSdWxlIjogImV2ZW5vZGQiLCAibGluZUNhcCI6ICJyb3VuZCIsICJsaW5lSm9pbiI6ICJyb3VuZCIsICJvcGFjaXR5IjogMS4wLCAicmFkaXVzIjogNSwgInN0cm9rZSI6IHRydWUsICJ3ZWlnaHQiOiAzfQogICAgICAgICAgICApLmFkZFRvKG1hcF9hYjY0ZTE2M2Q4MGM0NTQyYTdhMDFjOWUzNWRlMGVhMik7CiAgICAgICAgCiAgICAKICAgICAgICB2YXIgcG9wdXBfOWViM2ZiN2VhNjI5NDA4Zjg4NGVjYTMzZGRhYzZhMGQgPSBMLnBvcHVwKHsibWF4V2lkdGgiOiAiMTAwJSJ9KTsKCiAgICAgICAgCiAgICAgICAgICAgIHZhciBodG1sXzZmMThlMTNjYjQyNDQxMzliYzRhYmY2ZGM5MGEwN2I4ID0gJChgPGRpdiBpZD0iaHRtbF82ZjE4ZTEzY2I0MjQ0MTM5YmM0YWJmNmRjOTBhMDdiOCIgc3R5bGU9IndpZHRoOiAxMDAuMCU7IGhlaWdodDogMTAwLjAlOyI+VSBCYXp5bGE8L2Rpdj5gKVswXTsKICAgICAgICAgICAgcG9wdXBfOWViM2ZiN2VhNjI5NDA4Zjg4NGVjYTMzZGRhYzZhMGQuc2V0Q29udGVudChodG1sXzZmMThlMTNjYjQyNDQxMzliYzRhYmY2ZGM5MGEwN2I4KTsKICAgICAgICAKCiAgICAgICAgY2lyY2xlX21hcmtlcl81ZmMzMTQxOWQyNTQ0MTI2OTcxMjNiYzQxNzdlZDUwNS5iaW5kUG9wdXAocG9wdXBfOWViM2ZiN2VhNjI5NDA4Zjg4NGVjYTMzZGRhYzZhMGQpCiAgICAgICAgOwoKICAgICAgICAKICAgIAogICAgCiAgICAgICAgICAgIHZhciBjaXJjbGVfbWFya2VyXzIwMjg4N2FmZDI0ZTQxOGU5MjU5MTNjOGI0NDEzZjIxID0gTC5jaXJjbGVNYXJrZXIoCiAgICAgICAgICAgICAgICBbNTIuNDM5MTUzNjE0MTIyMjcsIDE2LjkxOTA1MTE3ODYzMjU4XSwKICAgICAgICAgICAgICAgIHsiYnViYmxpbmdNb3VzZUV2ZW50cyI6IHRydWUsICJjb2xvciI6ICJibHVlIiwgImRhc2hBcnJheSI6IG51bGwsICJkYXNoT2Zmc2V0IjogbnVsbCwgImZpbGwiOiB0cnVlLCAiZmlsbENvbG9yIjogIiMzMTg2Y2MiLCAiZmlsbE9wYWNpdHkiOiAwLjcsICJmaWxsUnVsZSI6ICJldmVub2RkIiwgImxpbmVDYXAiOiAicm91bmQiLCAibGluZUpvaW4iOiAicm91bmQiLCAib3BhY2l0eSI6IDEuMCwgInJhZGl1cyI6IDUsICJzdHJva2UiOiB0cnVlLCAid2VpZ2h0IjogM30KICAgICAgICAgICAgKS5hZGRUbyhtYXBfYWI2NGUxNjNkODBjNDU0MmE3YTAxYzllMzVkZTBlYTIpOwogICAgICAgIAogICAgCiAgICAgICAgdmFyIHBvcHVwXzIzNWNmYzllM2NjNDQ4OTc5ZTY2N2IyZTczM2EzZmI5ID0gTC5wb3B1cCh7Im1heFdpZHRoIjogIjEwMCUifSk7CgogICAgICAgIAogICAgICAgICAgICB2YXIgaHRtbF81Y2RmZGM3YWE2YmU0MTYyYjBiMzlmNzY2ZmEzZTdhNyA9ICQoYDxkaXYgaWQ9Imh0bWxfNWNkZmRjN2FhNmJlNDE2MmIwYjM5Zjc2NmZhM2U3YTciIHN0eWxlPSJ3aWR0aDogMTAwLjAlOyBoZWlnaHQ6IDEwMC4wJTsiPkVtcGlrPC9kaXY+YClbMF07CiAgICAgICAgICAgIHBvcHVwXzIzNWNmYzllM2NjNDQ4OTc5ZTY2N2IyZTczM2EzZmI5LnNldENvbnRlbnQoaHRtbF81Y2RmZGM3YWE2YmU0MTYyYjBiMzlmNzY2ZmEzZTdhNyk7CiAgICAgICAgCgogICAgICAgIGNpcmNsZV9tYXJrZXJfMjAyODg3YWZkMjRlNDE4ZTkyNTkxM2M4YjQ0MTNmMjEuYmluZFBvcHVwKHBvcHVwXzIzNWNmYzllM2NjNDQ4OTc5ZTY2N2IyZTczM2EzZmI5KQogICAgICAgIDsKCiAgICAgICAgCiAgICAKPC9zY3JpcHQ+\" style=\"position:absolute;width:100%;height:100%;left:0;top:0;border:none !important;\" allowfullscreen webkitallowfullscreen mozallowfullscreen></iframe></div></div>"
      ],
      "text/plain": [
       "<folium.folium.Map at 0x2a1a8358eb8>"
      ]
     },
     "execution_count": 14,
     "metadata": {},
     "output_type": "execute_result"
    }
   ],
   "source": [
    "maps[cities[1]]\n"
   ]
  },
  {
   "cell_type": "markdown",
   "metadata": {},
   "source": [
    "Warsaw"
   ]
  },
  {
   "cell_type": "code",
   "execution_count": 15,
   "metadata": {},
   "outputs": [
    {
     "data": {
      "text/html": [
       "<div style=\"width:100%;\"><div style=\"position:relative;width:100%;height:0;padding-bottom:60%;\"><iframe src=\"data:text/html;charset=utf-8;base64,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\" style=\"position:absolute;width:100%;height:100%;left:0;top:0;border:none !important;\" allowfullscreen webkitallowfullscreen mozallowfullscreen></iframe></div></div>"
      ],
      "text/plain": [
       "<folium.folium.Map at 0x2a1a835c438>"
      ]
     },
     "execution_count": 15,
     "metadata": {},
     "output_type": "execute_result"
    }
   ],
   "source": [
    "maps[cities[2]]"
   ]
  },
  {
   "cell_type": "markdown",
   "metadata": {},
   "source": [
    "Wroclaw"
   ]
  },
  {
   "cell_type": "code",
   "execution_count": 16,
   "metadata": {},
   "outputs": [
    {
     "data": {
      "text/html": [
       "<div style=\"width:100%;\"><div style=\"position:relative;width:100%;height:0;padding-bottom:60%;\"><iframe src=\"data:text/html;charset=utf-8;base64,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\" style=\"position:absolute;width:100%;height:100%;left:0;top:0;border:none !important;\" allowfullscreen webkitallowfullscreen mozallowfullscreen></iframe></div></div>"
      ],
      "text/plain": [
       "<folium.folium.Map at 0x2a1a835e898>"
      ]
     },
     "execution_count": 16,
     "metadata": {},
     "output_type": "execute_result"
    }
   ],
   "source": [
    "maps[cities[3]]"
   ]
  },
  {
   "cell_type": "code",
   "execution_count": 17,
   "metadata": {},
   "outputs": [],
   "source": [
    "df_cracow = df_venues.get('Cracow')"
   ]
  },
  {
   "cell_type": "code",
   "execution_count": 18,
   "metadata": {},
   "outputs": [],
   "source": [
    "df_wroclaw = df_venues.get('Wroclaw')"
   ]
  },
  {
   "cell_type": "code",
   "execution_count": 19,
   "metadata": {},
   "outputs": [],
   "source": [
    "df_warsaw = df_venues.get('Warsaw')"
   ]
  },
  {
   "cell_type": "code",
   "execution_count": 20,
   "metadata": {},
   "outputs": [],
   "source": [
    "df_poznan = df_venues.get('Poznan')"
   ]
  },
  {
   "cell_type": "markdown",
   "metadata": {},
   "source": [
    "<h1>Data analysis </h1>"
   ]
  },
  {
   "cell_type": "markdown",
   "metadata": {},
   "source": [
    "<h3>Cracow</h3>"
   ]
  },
  {
   "cell_type": "code",
   "execution_count": 21,
   "metadata": {},
   "outputs": [],
   "source": [
    "from sklearn.cluster import KMeans"
   ]
  },
  {
   "cell_type": "code",
   "execution_count": 22,
   "metadata": {},
   "outputs": [],
   "source": [
    "df_cluster = df_cracow.drop(['Name','Address', 'VenueID'], 1)"
   ]
  },
  {
   "cell_type": "code",
   "execution_count": 23,
   "metadata": {},
   "outputs": [],
   "source": [
    "kclusters = 4"
   ]
  },
  {
   "cell_type": "code",
   "execution_count": 24,
   "metadata": {},
   "outputs": [],
   "source": [
    "kmeans = KMeans(n_clusters=kclusters, random_state=0).fit(df_cluster)"
   ]
  },
  {
   "cell_type": "code",
   "execution_count": 25,
   "metadata": {},
   "outputs": [
    {
     "data": {
      "text/plain": [
       "array([1, 1, 1, 1, 1, 1, 3, 1, 1, 2, 1, 1, 0])"
      ]
     },
     "execution_count": 25,
     "metadata": {},
     "output_type": "execute_result"
    }
   ],
   "source": [
    "kmeans.labels_[0:13]"
   ]
  },
  {
   "cell_type": "code",
   "execution_count": 26,
   "metadata": {},
   "outputs": [
    {
     "data": {
      "text/html": [
       "<div>\n",
       "<style scoped>\n",
       "    .dataframe tbody tr th:only-of-type {\n",
       "        vertical-align: middle;\n",
       "    }\n",
       "\n",
       "    .dataframe tbody tr th {\n",
       "        vertical-align: top;\n",
       "    }\n",
       "\n",
       "    .dataframe thead th {\n",
       "        text-align: right;\n",
       "    }\n",
       "</style>\n",
       "<table border=\"1\" class=\"dataframe\">\n",
       "  <thead>\n",
       "    <tr style=\"text-align: right;\">\n",
       "      <th></th>\n",
       "      <th>Cluster Labels</th>\n",
       "      <th>Name</th>\n",
       "      <th>Address</th>\n",
       "      <th>VenueID</th>\n",
       "      <th>Lat</th>\n",
       "      <th>Lng</th>\n",
       "    </tr>\n",
       "  </thead>\n",
       "  <tbody>\n",
       "    <tr>\n",
       "      <th>0</th>\n",
       "      <td>1</td>\n",
       "      <td>Harris Piano Jazz</td>\n",
       "      <td>Rynek Główny 28</td>\n",
       "      <td>4bbf90a2b492d13a4fdfa260</td>\n",
       "      <td>50.061703</td>\n",
       "      <td>19.935660</td>\n",
       "    </tr>\n",
       "    <tr>\n",
       "      <th>1</th>\n",
       "      <td>1</td>\n",
       "      <td>Jazz Rock Cafe</td>\n",
       "      <td>Sławkowska 12</td>\n",
       "      <td>4befe97724f19c747926f983</td>\n",
       "      <td>50.063866</td>\n",
       "      <td>19.937492</td>\n",
       "    </tr>\n",
       "  </tbody>\n",
       "</table>\n",
       "</div>"
      ],
      "text/plain": [
       "   Cluster Labels               Name          Address  \\\n",
       "0               1  Harris Piano Jazz  Rynek Główny 28   \n",
       "1               1     Jazz Rock Cafe    Sławkowska 12   \n",
       "\n",
       "                    VenueID        Lat        Lng  \n",
       "0  4bbf90a2b492d13a4fdfa260  50.061703  19.935660  \n",
       "1  4befe97724f19c747926f983  50.063866  19.937492  "
      ]
     },
     "execution_count": 26,
     "metadata": {},
     "output_type": "execute_result"
    }
   ],
   "source": [
    "df_cracow.insert(0, 'Cluster Labels', kmeans.labels_)\n",
    "df_cracow.head(2)"
   ]
  },
  {
   "cell_type": "code",
   "execution_count": 27,
   "metadata": {},
   "outputs": [
    {
     "data": {
      "text/html": [
       "<div style=\"width:100%;\"><div style=\"position:relative;width:100%;height:0;padding-bottom:60%;\"><iframe src=\"data:text/html;charset=utf-8;base64,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\" style=\"position:absolute;width:100%;height:100%;left:0;top:0;border:none !important;\" allowfullscreen webkitallowfullscreen mozallowfullscreen></iframe></div></div>"
      ],
      "text/plain": [
       "<folium.folium.Map at 0x2a1a8a91160>"
      ]
     },
     "execution_count": 27,
     "metadata": {},
     "output_type": "execute_result"
    }
   ],
   "source": [
    "# create map\n",
    "latitude=50.049683\n",
    "longitude=19.944544\n",
    "map_clusters = folium.Map(location=[latitude, longitude], zoom_start=12)\n",
    "\n",
    "# set color scheme for the clusters\n",
    "x = np.arange(kclusters)\n",
    "ys = [i + x + (i*x)**2 for i in range(kclusters)]\n",
    "colors_array = cm.rainbow(np.linspace(0, 1, len(ys)))\n",
    "rainbow = [colors.rgb2hex(i) for i in colors_array]\n",
    "\n",
    "# add markers to the map\n",
    "markers_colors = []\n",
    "for lat, lon, cluster in zip(df_cracow['Lat'], df_cracow['Lng'],  df_cracow['Cluster Labels']):\n",
    "    label = folium.Popup(' Cluster ' + str(cluster), parse_html=True)\n",
    "    folium.CircleMarker(\n",
    "        [lat, lon],\n",
    "        radius=5,\n",
    "        popup=label,\n",
    "        color=rainbow[cluster-1],\n",
    "        fill=True,\n",
    "        fill_color=rainbow[cluster-1],\n",
    "        fill_opacity=0.7).add_to(map_clusters)\n",
    "       \n",
    "map_clusters"
   ]
  },
  {
   "cell_type": "code",
   "execution_count": 28,
   "metadata": {},
   "outputs": [
    {
     "data": {
      "text/plain": [
       "1    10\n",
       "3     3\n",
       "2     1\n",
       "0     1\n",
       "Name: Cluster Labels, dtype: int64"
      ]
     },
     "execution_count": 28,
     "metadata": {},
     "output_type": "execute_result"
    }
   ],
   "source": [
    "df_cracow['Cluster Labels'].value_counts()"
   ]
  },
  {
   "cell_type": "markdown",
   "metadata": {},
   "source": [
    "We will consider cluster 1"
   ]
  },
  {
   "cell_type": "code",
   "execution_count": 31,
   "metadata": {},
   "outputs": [],
   "source": [
    "df_cracow_fin = df_cracow.loc[df_cracow['Cluster Labels'] == 1]"
   ]
  },
  {
   "cell_type": "code",
   "execution_count": 32,
   "metadata": {},
   "outputs": [
    {
     "data": {
      "text/html": [
       "<div>\n",
       "<style scoped>\n",
       "    .dataframe tbody tr th:only-of-type {\n",
       "        vertical-align: middle;\n",
       "    }\n",
       "\n",
       "    .dataframe tbody tr th {\n",
       "        vertical-align: top;\n",
       "    }\n",
       "\n",
       "    .dataframe thead th {\n",
       "        text-align: right;\n",
       "    }\n",
       "</style>\n",
       "<table border=\"1\" class=\"dataframe\">\n",
       "  <thead>\n",
       "    <tr style=\"text-align: right;\">\n",
       "      <th></th>\n",
       "      <th>Cluster Labels</th>\n",
       "      <th>Name</th>\n",
       "      <th>Address</th>\n",
       "      <th>VenueID</th>\n",
       "      <th>Lat</th>\n",
       "      <th>Lng</th>\n",
       "    </tr>\n",
       "  </thead>\n",
       "  <tbody>\n",
       "    <tr>\n",
       "      <th>0</th>\n",
       "      <td>1</td>\n",
       "      <td>Harris Piano Jazz</td>\n",
       "      <td>Rynek Główny 28</td>\n",
       "      <td>4bbf90a2b492d13a4fdfa260</td>\n",
       "      <td>50.061703</td>\n",
       "      <td>19.935660</td>\n",
       "    </tr>\n",
       "    <tr>\n",
       "      <th>1</th>\n",
       "      <td>1</td>\n",
       "      <td>Jazz Rock Cafe</td>\n",
       "      <td>Sławkowska 12</td>\n",
       "      <td>4befe97724f19c747926f983</td>\n",
       "      <td>50.063866</td>\n",
       "      <td>19.937492</td>\n",
       "    </tr>\n",
       "    <tr>\n",
       "      <th>2</th>\n",
       "      <td>1</td>\n",
       "      <td>Hard Rock Cafe Kraków</td>\n",
       "      <td>Main Market / Mariacki Square 9</td>\n",
       "      <td>4c28c33b9eb195213e982959</td>\n",
       "      <td>50.061442</td>\n",
       "      <td>19.938733</td>\n",
       "    </tr>\n",
       "    <tr>\n",
       "      <th>3</th>\n",
       "      <td>1</td>\n",
       "      <td>The Piano Rouge</td>\n",
       "      <td>Rynek Główny 46</td>\n",
       "      <td>4c7e5d5e3b22a1cdc388619e</td>\n",
       "      <td>50.062130</td>\n",
       "      <td>19.938760</td>\n",
       "    </tr>\n",
       "    <tr>\n",
       "      <th>4</th>\n",
       "      <td>1</td>\n",
       "      <td>Księgarnia Muzyczna Kurant</td>\n",
       "      <td>Rynek Główny 36</td>\n",
       "      <td>51bbae5d498e408f1a985606</td>\n",
       "      <td>50.062341</td>\n",
       "      <td>19.936778</td>\n",
       "    </tr>\n",
       "    <tr>\n",
       "      <th>5</th>\n",
       "      <td>1</td>\n",
       "      <td>Jazz Club U Muniaka</td>\n",
       "      <td>Floriańska 3</td>\n",
       "      <td>4f0231f9be7bbcd4f5cd8fd0</td>\n",
       "      <td>50.062189</td>\n",
       "      <td>19.939250</td>\n",
       "    </tr>\n",
       "    <tr>\n",
       "      <th>7</th>\n",
       "      <td>1</td>\n",
       "      <td>Piec Art Acoustic Jazz Club</td>\n",
       "      <td>NaN</td>\n",
       "      <td>4dfa5cced164bbe54616bab9</td>\n",
       "      <td>50.062661</td>\n",
       "      <td>19.934744</td>\n",
       "    </tr>\n",
       "    <tr>\n",
       "      <th>8</th>\n",
       "      <td>1</td>\n",
       "      <td>Chicago Jazz Live Music</td>\n",
       "      <td>NaN</td>\n",
       "      <td>52f6a5a5498e48263b2adaca</td>\n",
       "      <td>50.063970</td>\n",
       "      <td>19.937753</td>\n",
       "    </tr>\n",
       "    <tr>\n",
       "      <th>10</th>\n",
       "      <td>1</td>\n",
       "      <td>Klub Muzyczny Awaria</td>\n",
       "      <td>Mikołajska 9</td>\n",
       "      <td>4bfcd3a7e930952171f061ab</td>\n",
       "      <td>50.061266</td>\n",
       "      <td>19.942233</td>\n",
       "    </tr>\n",
       "    <tr>\n",
       "      <th>11</th>\n",
       "      <td>1</td>\n",
       "      <td>Carpe Diem 2</td>\n",
       "      <td>ul. Sławkowska 6</td>\n",
       "      <td>4be96c6ca117b713e28281c8</td>\n",
       "      <td>50.063289</td>\n",
       "      <td>19.937282</td>\n",
       "    </tr>\n",
       "  </tbody>\n",
       "</table>\n",
       "</div>"
      ],
      "text/plain": [
       "    Cluster Labels                         Name  \\\n",
       "0                1            Harris Piano Jazz   \n",
       "1                1               Jazz Rock Cafe   \n",
       "2                1        Hard Rock Cafe Kraków   \n",
       "3                1              The Piano Rouge   \n",
       "4                1   Księgarnia Muzyczna Kurant   \n",
       "5                1          Jazz Club U Muniaka   \n",
       "7                1  Piec Art Acoustic Jazz Club   \n",
       "8                1      Chicago Jazz Live Music   \n",
       "10               1         Klub Muzyczny Awaria   \n",
       "11               1                 Carpe Diem 2   \n",
       "\n",
       "                            Address                   VenueID        Lat  \\\n",
       "0                   Rynek Główny 28  4bbf90a2b492d13a4fdfa260  50.061703   \n",
       "1                     Sławkowska 12  4befe97724f19c747926f983  50.063866   \n",
       "2   Main Market / Mariacki Square 9  4c28c33b9eb195213e982959  50.061442   \n",
       "3                   Rynek Główny 46  4c7e5d5e3b22a1cdc388619e  50.062130   \n",
       "4                   Rynek Główny 36  51bbae5d498e408f1a985606  50.062341   \n",
       "5                      Floriańska 3  4f0231f9be7bbcd4f5cd8fd0  50.062189   \n",
       "7                               NaN  4dfa5cced164bbe54616bab9  50.062661   \n",
       "8                               NaN  52f6a5a5498e48263b2adaca  50.063970   \n",
       "10                     Mikołajska 9  4bfcd3a7e930952171f061ab  50.061266   \n",
       "11                 ul. Sławkowska 6  4be96c6ca117b713e28281c8  50.063289   \n",
       "\n",
       "          Lng  \n",
       "0   19.935660  \n",
       "1   19.937492  \n",
       "2   19.938733  \n",
       "3   19.938760  \n",
       "4   19.936778  \n",
       "5   19.939250  \n",
       "7   19.934744  \n",
       "8   19.937753  \n",
       "10  19.942233  \n",
       "11  19.937282  "
      ]
     },
     "execution_count": 32,
     "metadata": {},
     "output_type": "execute_result"
    }
   ],
   "source": [
    "df_cracow_fin"
   ]
  },
  {
   "cell_type": "code",
   "execution_count": 33,
   "metadata": {},
   "outputs": [
    {
     "data": {
      "text/html": [
       "<div style=\"width:100%;\"><div style=\"position:relative;width:100%;height:0;padding-bottom:60%;\"><iframe src=\"data:text/html;charset=utf-8;base64,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\" style=\"position:absolute;width:100%;height:100%;left:0;top:0;border:none !important;\" allowfullscreen webkitallowfullscreen mozallowfullscreen></iframe></div></div>"
      ],
      "text/plain": [
       "<folium.folium.Map at 0x2a1a8aab940>"
      ]
     },
     "execution_count": 33,
     "metadata": {},
     "output_type": "execute_result"
    }
   ],
   "source": [
    "# create map\n",
    "latitude=df_cracow_fin['Lat'].mean()\n",
    "longitude=df_cracow_fin['Lng'].mean()\n",
    "map_clusters = folium.Map(location=[latitude, longitude], zoom_start=16)\n",
    "\n",
    "# set color scheme for the clusters\n",
    "#x = np.arange(kclusters)\n",
    "#ys = [i + x + (i*x)**2 for i in range(kclusters)]\n",
    "#colors_array = cm.rainbow(np.linspace(0, 1, len(ys)))\n",
    "#rainbow = [colors.rgb2hex(i) for i in colors_array]\n",
    "\n",
    "# add markers to the map\n",
    "markers_colors = []\n",
    "for lat, lon in zip(df_cracow_fin['Lat'], df_cracow_fin['Lng']):\n",
    "    folium.CircleMarker(\n",
    "        [lat, lon],\n",
    "        radius=5,\n",
    "        #popup=label,\n",
    "        #color='red',\n",
    "        fill=True,\n",
    "        #fill_color=rainbow[cluster-1],\n",
    "        fill_opacity=0.7).add_to(map_clusters)\n",
    "       \n",
    "map_clusters"
   ]
  },
  {
   "cell_type": "markdown",
   "metadata": {},
   "source": [
    "Mean distance between venues in cluster:"
   ]
  },
  {
   "cell_type": "code",
   "execution_count": 34,
   "metadata": {},
   "outputs": [
    {
     "name": "stdout",
     "output_type": "stream",
     "text": [
      "The mean Manhattan distance between points equals 0.024830518334050092\n"
     ]
    }
   ],
   "source": [
    "distance_cracow = pdist(df_cluster, 'cityblock')\n",
    "print('The mean Manhattan distance between points equals ' + str(distance_cracow.mean()))"
   ]
  },
  {
   "cell_type": "code",
   "execution_count": 35,
   "metadata": {},
   "outputs": [
    {
     "name": "stdout",
     "output_type": "stream",
     "text": [
      "7.9\n",
      "7.9\n",
      "8.1\n",
      "7.4\n",
      "6.8\n",
      "6.5\n",
      "6.3\n",
      "6.3\n",
      "5.9\n",
      "5.8\n"
     ]
    },
    {
     "name": "stderr",
     "output_type": "stream",
     "text": [
      "D:\\Anaconda\\lib\\site-packages\\ipykernel_launcher.py:16: SettingWithCopyWarning: \n",
      "A value is trying to be set on a copy of a slice from a DataFrame.\n",
      "Try using .loc[row_indexer,col_indexer] = value instead\n",
      "\n",
      "See the caveats in the documentation: http://pandas.pydata.org/pandas-docs/stable/indexing.html#indexing-view-versus-copy\n",
      "  app.launch_new_instance()\n"
     ]
    },
    {
     "data": {
      "text/html": [
       "<div>\n",
       "<style scoped>\n",
       "    .dataframe tbody tr th:only-of-type {\n",
       "        vertical-align: middle;\n",
       "    }\n",
       "\n",
       "    .dataframe tbody tr th {\n",
       "        vertical-align: top;\n",
       "    }\n",
       "\n",
       "    .dataframe thead th {\n",
       "        text-align: right;\n",
       "    }\n",
       "</style>\n",
       "<table border=\"1\" class=\"dataframe\">\n",
       "  <thead>\n",
       "    <tr style=\"text-align: right;\">\n",
       "      <th></th>\n",
       "      <th>Cluster Labels</th>\n",
       "      <th>Name</th>\n",
       "      <th>Address</th>\n",
       "      <th>VenueID</th>\n",
       "      <th>Lat</th>\n",
       "      <th>Lng</th>\n",
       "      <th>Rating</th>\n",
       "    </tr>\n",
       "  </thead>\n",
       "  <tbody>\n",
       "    <tr>\n",
       "      <th>0</th>\n",
       "      <td>1</td>\n",
       "      <td>Harris Piano Jazz</td>\n",
       "      <td>Rynek Główny 28</td>\n",
       "      <td>4bbf90a2b492d13a4fdfa260</td>\n",
       "      <td>50.061703</td>\n",
       "      <td>19.935660</td>\n",
       "      <td>7.9</td>\n",
       "    </tr>\n",
       "    <tr>\n",
       "      <th>1</th>\n",
       "      <td>1</td>\n",
       "      <td>Jazz Rock Cafe</td>\n",
       "      <td>Sławkowska 12</td>\n",
       "      <td>4befe97724f19c747926f983</td>\n",
       "      <td>50.063866</td>\n",
       "      <td>19.937492</td>\n",
       "      <td>7.9</td>\n",
       "    </tr>\n",
       "    <tr>\n",
       "      <th>2</th>\n",
       "      <td>1</td>\n",
       "      <td>Hard Rock Cafe Kraków</td>\n",
       "      <td>Main Market / Mariacki Square 9</td>\n",
       "      <td>4c28c33b9eb195213e982959</td>\n",
       "      <td>50.061442</td>\n",
       "      <td>19.938733</td>\n",
       "      <td>8.1</td>\n",
       "    </tr>\n",
       "    <tr>\n",
       "      <th>3</th>\n",
       "      <td>1</td>\n",
       "      <td>The Piano Rouge</td>\n",
       "      <td>Rynek Główny 46</td>\n",
       "      <td>4c7e5d5e3b22a1cdc388619e</td>\n",
       "      <td>50.062130</td>\n",
       "      <td>19.938760</td>\n",
       "      <td>7.4</td>\n",
       "    </tr>\n",
       "    <tr>\n",
       "      <th>4</th>\n",
       "      <td>1</td>\n",
       "      <td>Księgarnia Muzyczna Kurant</td>\n",
       "      <td>Rynek Główny 36</td>\n",
       "      <td>51bbae5d498e408f1a985606</td>\n",
       "      <td>50.062341</td>\n",
       "      <td>19.936778</td>\n",
       "      <td>6.8</td>\n",
       "    </tr>\n",
       "    <tr>\n",
       "      <th>5</th>\n",
       "      <td>1</td>\n",
       "      <td>Jazz Club U Muniaka</td>\n",
       "      <td>Floriańska 3</td>\n",
       "      <td>4f0231f9be7bbcd4f5cd8fd0</td>\n",
       "      <td>50.062189</td>\n",
       "      <td>19.939250</td>\n",
       "      <td>6.5</td>\n",
       "    </tr>\n",
       "    <tr>\n",
       "      <th>7</th>\n",
       "      <td>1</td>\n",
       "      <td>Piec Art Acoustic Jazz Club</td>\n",
       "      <td>NaN</td>\n",
       "      <td>4dfa5cced164bbe54616bab9</td>\n",
       "      <td>50.062661</td>\n",
       "      <td>19.934744</td>\n",
       "      <td>6.3</td>\n",
       "    </tr>\n",
       "    <tr>\n",
       "      <th>8</th>\n",
       "      <td>1</td>\n",
       "      <td>Chicago Jazz Live Music</td>\n",
       "      <td>NaN</td>\n",
       "      <td>52f6a5a5498e48263b2adaca</td>\n",
       "      <td>50.063970</td>\n",
       "      <td>19.937753</td>\n",
       "      <td>6.3</td>\n",
       "    </tr>\n",
       "    <tr>\n",
       "      <th>10</th>\n",
       "      <td>1</td>\n",
       "      <td>Klub Muzyczny Awaria</td>\n",
       "      <td>Mikołajska 9</td>\n",
       "      <td>4bfcd3a7e930952171f061ab</td>\n",
       "      <td>50.061266</td>\n",
       "      <td>19.942233</td>\n",
       "      <td>5.9</td>\n",
       "    </tr>\n",
       "    <tr>\n",
       "      <th>11</th>\n",
       "      <td>1</td>\n",
       "      <td>Carpe Diem 2</td>\n",
       "      <td>ul. Sławkowska 6</td>\n",
       "      <td>4be96c6ca117b713e28281c8</td>\n",
       "      <td>50.063289</td>\n",
       "      <td>19.937282</td>\n",
       "      <td>5.8</td>\n",
       "    </tr>\n",
       "  </tbody>\n",
       "</table>\n",
       "</div>"
      ],
      "text/plain": [
       "    Cluster Labels                         Name  \\\n",
       "0                1            Harris Piano Jazz   \n",
       "1                1               Jazz Rock Cafe   \n",
       "2                1        Hard Rock Cafe Kraków   \n",
       "3                1              The Piano Rouge   \n",
       "4                1   Księgarnia Muzyczna Kurant   \n",
       "5                1          Jazz Club U Muniaka   \n",
       "7                1  Piec Art Acoustic Jazz Club   \n",
       "8                1      Chicago Jazz Live Music   \n",
       "10               1         Klub Muzyczny Awaria   \n",
       "11               1                 Carpe Diem 2   \n",
       "\n",
       "                            Address                   VenueID        Lat  \\\n",
       "0                   Rynek Główny 28  4bbf90a2b492d13a4fdfa260  50.061703   \n",
       "1                     Sławkowska 12  4befe97724f19c747926f983  50.063866   \n",
       "2   Main Market / Mariacki Square 9  4c28c33b9eb195213e982959  50.061442   \n",
       "3                   Rynek Główny 46  4c7e5d5e3b22a1cdc388619e  50.062130   \n",
       "4                   Rynek Główny 36  51bbae5d498e408f1a985606  50.062341   \n",
       "5                      Floriańska 3  4f0231f9be7bbcd4f5cd8fd0  50.062189   \n",
       "7                               NaN  4dfa5cced164bbe54616bab9  50.062661   \n",
       "8                               NaN  52f6a5a5498e48263b2adaca  50.063970   \n",
       "10                     Mikołajska 9  4bfcd3a7e930952171f061ab  50.061266   \n",
       "11                 ul. Sławkowska 6  4be96c6ca117b713e28281c8  50.063289   \n",
       "\n",
       "          Lng  Rating  \n",
       "0   19.935660     7.9  \n",
       "1   19.937492     7.9  \n",
       "2   19.938733     8.1  \n",
       "3   19.938760     7.4  \n",
       "4   19.936778     6.8  \n",
       "5   19.939250     6.5  \n",
       "7   19.934744     6.3  \n",
       "8   19.937753     6.3  \n",
       "10  19.942233     5.9  \n",
       "11  19.937282     5.8  "
      ]
     },
     "execution_count": 35,
     "metadata": {},
     "output_type": "execute_result"
    }
   ],
   "source": [
    "ratings={}\n",
    "i=0\n",
    "for id in df_cracow_fin['VenueID']:\n",
    "    URL = 'https://api.foursquare.com/v2/venues/{}?&client_id={}&client_secret={}&v={}'.format(\n",
    "        id,\n",
    "        CLIENT_ID, \n",
    "        CLIENT_SECRET, \n",
    "        VERSION, \n",
    "        ) \n",
    "    results = grab = requests.get(URL).json()\n",
    "    rate = results['response']['venue']['rating']\n",
    "    ratings[id]=rate\n",
    "    i=i+1\n",
    "    print(results['response']['venue']['rating'])\n",
    "    \n",
    "df_cracow_fin['Rating']=df_cracow_fin['VenueID'].map(ratings)\n",
    "df_cracow_fin"
   ]
  },
  {
   "cell_type": "code",
   "execution_count": 36,
   "metadata": {},
   "outputs": [
    {
     "data": {
      "text/html": [
       "<div>\n",
       "<style scoped>\n",
       "    .dataframe tbody tr th:only-of-type {\n",
       "        vertical-align: middle;\n",
       "    }\n",
       "\n",
       "    .dataframe tbody tr th {\n",
       "        vertical-align: top;\n",
       "    }\n",
       "\n",
       "    .dataframe thead th {\n",
       "        text-align: right;\n",
       "    }\n",
       "</style>\n",
       "<table border=\"1\" class=\"dataframe\">\n",
       "  <thead>\n",
       "    <tr style=\"text-align: right;\">\n",
       "      <th></th>\n",
       "      <th>Cluster Labels</th>\n",
       "      <th>Name</th>\n",
       "      <th>Address</th>\n",
       "      <th>VenueID</th>\n",
       "      <th>Lat</th>\n",
       "      <th>Lng</th>\n",
       "      <th>Rating</th>\n",
       "    </tr>\n",
       "  </thead>\n",
       "  <tbody>\n",
       "    <tr>\n",
       "      <th>0</th>\n",
       "      <td>1</td>\n",
       "      <td>Harris Piano Jazz</td>\n",
       "      <td>Rynek Główny 28</td>\n",
       "      <td>4bbf90a2b492d13a4fdfa260</td>\n",
       "      <td>50.061703</td>\n",
       "      <td>19.935660</td>\n",
       "      <td>7.9</td>\n",
       "    </tr>\n",
       "    <tr>\n",
       "      <th>1</th>\n",
       "      <td>1</td>\n",
       "      <td>Jazz Rock Cafe</td>\n",
       "      <td>Sławkowska 12</td>\n",
       "      <td>4befe97724f19c747926f983</td>\n",
       "      <td>50.063866</td>\n",
       "      <td>19.937492</td>\n",
       "      <td>7.9</td>\n",
       "    </tr>\n",
       "    <tr>\n",
       "      <th>2</th>\n",
       "      <td>1</td>\n",
       "      <td>Hard Rock Cafe Kraków</td>\n",
       "      <td>Main Market / Mariacki Square 9</td>\n",
       "      <td>4c28c33b9eb195213e982959</td>\n",
       "      <td>50.061442</td>\n",
       "      <td>19.938733</td>\n",
       "      <td>8.1</td>\n",
       "    </tr>\n",
       "    <tr>\n",
       "      <th>3</th>\n",
       "      <td>1</td>\n",
       "      <td>The Piano Rouge</td>\n",
       "      <td>Rynek Główny 46</td>\n",
       "      <td>4c7e5d5e3b22a1cdc388619e</td>\n",
       "      <td>50.062130</td>\n",
       "      <td>19.938760</td>\n",
       "      <td>7.4</td>\n",
       "    </tr>\n",
       "    <tr>\n",
       "      <th>4</th>\n",
       "      <td>1</td>\n",
       "      <td>Księgarnia Muzyczna Kurant</td>\n",
       "      <td>Rynek Główny 36</td>\n",
       "      <td>51bbae5d498e408f1a985606</td>\n",
       "      <td>50.062341</td>\n",
       "      <td>19.936778</td>\n",
       "      <td>6.8</td>\n",
       "    </tr>\n",
       "    <tr>\n",
       "      <th>5</th>\n",
       "      <td>1</td>\n",
       "      <td>Jazz Club U Muniaka</td>\n",
       "      <td>Floriańska 3</td>\n",
       "      <td>4f0231f9be7bbcd4f5cd8fd0</td>\n",
       "      <td>50.062189</td>\n",
       "      <td>19.939250</td>\n",
       "      <td>6.5</td>\n",
       "    </tr>\n",
       "    <tr>\n",
       "      <th>7</th>\n",
       "      <td>1</td>\n",
       "      <td>Piec Art Acoustic Jazz Club</td>\n",
       "      <td>NaN</td>\n",
       "      <td>4dfa5cced164bbe54616bab9</td>\n",
       "      <td>50.062661</td>\n",
       "      <td>19.934744</td>\n",
       "      <td>6.3</td>\n",
       "    </tr>\n",
       "    <tr>\n",
       "      <th>8</th>\n",
       "      <td>1</td>\n",
       "      <td>Chicago Jazz Live Music</td>\n",
       "      <td>NaN</td>\n",
       "      <td>52f6a5a5498e48263b2adaca</td>\n",
       "      <td>50.063970</td>\n",
       "      <td>19.937753</td>\n",
       "      <td>6.3</td>\n",
       "    </tr>\n",
       "    <tr>\n",
       "      <th>10</th>\n",
       "      <td>1</td>\n",
       "      <td>Klub Muzyczny Awaria</td>\n",
       "      <td>Mikołajska 9</td>\n",
       "      <td>4bfcd3a7e930952171f061ab</td>\n",
       "      <td>50.061266</td>\n",
       "      <td>19.942233</td>\n",
       "      <td>5.9</td>\n",
       "    </tr>\n",
       "    <tr>\n",
       "      <th>11</th>\n",
       "      <td>1</td>\n",
       "      <td>Carpe Diem 2</td>\n",
       "      <td>ul. Sławkowska 6</td>\n",
       "      <td>4be96c6ca117b713e28281c8</td>\n",
       "      <td>50.063289</td>\n",
       "      <td>19.937282</td>\n",
       "      <td>5.8</td>\n",
       "    </tr>\n",
       "  </tbody>\n",
       "</table>\n",
       "</div>"
      ],
      "text/plain": [
       "    Cluster Labels                         Name  \\\n",
       "0                1            Harris Piano Jazz   \n",
       "1                1               Jazz Rock Cafe   \n",
       "2                1        Hard Rock Cafe Kraków   \n",
       "3                1              The Piano Rouge   \n",
       "4                1   Księgarnia Muzyczna Kurant   \n",
       "5                1          Jazz Club U Muniaka   \n",
       "7                1  Piec Art Acoustic Jazz Club   \n",
       "8                1      Chicago Jazz Live Music   \n",
       "10               1         Klub Muzyczny Awaria   \n",
       "11               1                 Carpe Diem 2   \n",
       "\n",
       "                            Address                   VenueID        Lat  \\\n",
       "0                   Rynek Główny 28  4bbf90a2b492d13a4fdfa260  50.061703   \n",
       "1                     Sławkowska 12  4befe97724f19c747926f983  50.063866   \n",
       "2   Main Market / Mariacki Square 9  4c28c33b9eb195213e982959  50.061442   \n",
       "3                   Rynek Główny 46  4c7e5d5e3b22a1cdc388619e  50.062130   \n",
       "4                   Rynek Główny 36  51bbae5d498e408f1a985606  50.062341   \n",
       "5                      Floriańska 3  4f0231f9be7bbcd4f5cd8fd0  50.062189   \n",
       "7                               NaN  4dfa5cced164bbe54616bab9  50.062661   \n",
       "8                               NaN  52f6a5a5498e48263b2adaca  50.063970   \n",
       "10                     Mikołajska 9  4bfcd3a7e930952171f061ab  50.061266   \n",
       "11                 ul. Sławkowska 6  4be96c6ca117b713e28281c8  50.063289   \n",
       "\n",
       "          Lng  Rating  \n",
       "0   19.935660     7.9  \n",
       "1   19.937492     7.9  \n",
       "2   19.938733     8.1  \n",
       "3   19.938760     7.4  \n",
       "4   19.936778     6.8  \n",
       "5   19.939250     6.5  \n",
       "7   19.934744     6.3  \n",
       "8   19.937753     6.3  \n",
       "10  19.942233     5.9  \n",
       "11  19.937282     5.8  "
      ]
     },
     "execution_count": 36,
     "metadata": {},
     "output_type": "execute_result"
    }
   ],
   "source": [
    "df_cracow_fin"
   ]
  },
  {
   "cell_type": "markdown",
   "metadata": {},
   "source": [
    "<h3>Poznan </h3>"
   ]
  },
  {
   "cell_type": "code",
   "execution_count": 37,
   "metadata": {},
   "outputs": [
    {
     "data": {
      "text/plain": [
       "array([3, 1, 2, 1, 0])"
      ]
     },
     "execution_count": 37,
     "metadata": {},
     "output_type": "execute_result"
    }
   ],
   "source": [
    "df_cluster = df_poznan.drop(['Name','Address', 'VenueID'], 1)\n",
    "kclusters = 4\n",
    "kmeans = KMeans(n_clusters=kclusters, random_state=0).fit(df_cluster)\n",
    "kmeans.labels_[0:13]"
   ]
  },
  {
   "cell_type": "code",
   "execution_count": 38,
   "metadata": {},
   "outputs": [
    {
     "data": {
      "text/html": [
       "<div>\n",
       "<style scoped>\n",
       "    .dataframe tbody tr th:only-of-type {\n",
       "        vertical-align: middle;\n",
       "    }\n",
       "\n",
       "    .dataframe tbody tr th {\n",
       "        vertical-align: top;\n",
       "    }\n",
       "\n",
       "    .dataframe thead th {\n",
       "        text-align: right;\n",
       "    }\n",
       "</style>\n",
       "<table border=\"1\" class=\"dataframe\">\n",
       "  <thead>\n",
       "    <tr style=\"text-align: right;\">\n",
       "      <th></th>\n",
       "      <th>Cluster Labels</th>\n",
       "      <th>Name</th>\n",
       "      <th>Address</th>\n",
       "      <th>VenueID</th>\n",
       "      <th>Lat</th>\n",
       "      <th>Lng</th>\n",
       "    </tr>\n",
       "  </thead>\n",
       "  <tbody>\n",
       "    <tr>\n",
       "      <th>0</th>\n",
       "      <td>3</td>\n",
       "      <td>Blue Note</td>\n",
       "      <td>Kościuszki 79</td>\n",
       "      <td>4c93f79872dd224b349c9591</td>\n",
       "      <td>52.408352</td>\n",
       "      <td>16.919411</td>\n",
       "    </tr>\n",
       "    <tr>\n",
       "      <th>1</th>\n",
       "      <td>1</td>\n",
       "      <td>U Bazyla</td>\n",
       "      <td>Norwida 18a</td>\n",
       "      <td>4e18aa3c2271b0e971fea995</td>\n",
       "      <td>52.415897</td>\n",
       "      <td>16.913159</td>\n",
       "    </tr>\n",
       "  </tbody>\n",
       "</table>\n",
       "</div>"
      ],
      "text/plain": [
       "   Cluster Labels       Name        Address                   VenueID  \\\n",
       "0               3  Blue Note  Kościuszki 79  4c93f79872dd224b349c9591   \n",
       "1               1   U Bazyla    Norwida 18a  4e18aa3c2271b0e971fea995   \n",
       "\n",
       "         Lat        Lng  \n",
       "0  52.408352  16.919411  \n",
       "1  52.415897  16.913159  "
      ]
     },
     "execution_count": 38,
     "metadata": {},
     "output_type": "execute_result"
    }
   ],
   "source": [
    "df_poznan.insert(0, 'Cluster Labels', kmeans.labels_)\n",
    "df_poznan.head(2)"
   ]
  },
  {
   "cell_type": "code",
   "execution_count": 39,
   "metadata": {},
   "outputs": [
    {
     "data": {
      "text/html": [
       "<div style=\"width:100%;\"><div style=\"position:relative;width:100%;height:0;padding-bottom:60%;\"><iframe src=\"data:text/html;charset=utf-8;base64,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\" style=\"position:absolute;width:100%;height:100%;left:0;top:0;border:none !important;\" allowfullscreen webkitallowfullscreen mozallowfullscreen></iframe></div></div>"
      ],
      "text/plain": [
       "<folium.folium.Map at 0x2a1a82ce588>"
      ]
     },
     "execution_count": 39,
     "metadata": {},
     "output_type": "execute_result"
    }
   ],
   "source": [
    "# create map\n",
    "latitude=df_poznan['Lat'].mean()\n",
    "longitude=df_poznan['Lng'].mean()\n",
    "map_clusters = folium.Map(location=[latitude, longitude], zoom_start=14)\n",
    "\n",
    "# set color scheme for the clusters\n",
    "x = np.arange(kclusters)\n",
    "ys = [i + x + (i*x)**2 for i in range(kclusters)]\n",
    "colors_array = cm.rainbow(np.linspace(0, 1, len(ys)))\n",
    "rainbow = [colors.rgb2hex(i) for i in colors_array]\n",
    "\n",
    "# add markers to the map\n",
    "markers_colors = []\n",
    "for lat, lon, cluster in zip(df_poznan['Lat'], df_poznan['Lng'],  df_poznan['Cluster Labels']):\n",
    "    label = folium.Popup(' Cluster ' + str(cluster), parse_html=True)\n",
    "    folium.CircleMarker(\n",
    "        [lat, lon],\n",
    "        radius=5,\n",
    "        popup=label,\n",
    "        color=rainbow[cluster-1],\n",
    "        fill=True,\n",
    "        fill_color=rainbow[cluster-1],\n",
    "        fill_opacity=0.7).add_to(map_clusters)\n",
    "       \n",
    "map_clusters"
   ]
  },
  {
   "cell_type": "code",
   "execution_count": 40,
   "metadata": {},
   "outputs": [
    {
     "data": {
      "text/plain": [
       "1    2\n",
       "3    1\n",
       "2    1\n",
       "0    1\n",
       "Name: Cluster Labels, dtype: int64"
      ]
     },
     "execution_count": 40,
     "metadata": {},
     "output_type": "execute_result"
    }
   ],
   "source": [
    "df_poznan['Cluster Labels'].value_counts()"
   ]
  },
  {
   "cell_type": "markdown",
   "metadata": {},
   "source": [
    "We will consider Cluster 1"
   ]
  },
  {
   "cell_type": "code",
   "execution_count": 41,
   "metadata": {},
   "outputs": [],
   "source": [
    "df_poznan_fin = df_poznan.loc[df_poznan['Cluster Labels'] == 1]"
   ]
  },
  {
   "cell_type": "code",
   "execution_count": 42,
   "metadata": {},
   "outputs": [
    {
     "data": {
      "text/html": [
       "<div>\n",
       "<style scoped>\n",
       "    .dataframe tbody tr th:only-of-type {\n",
       "        vertical-align: middle;\n",
       "    }\n",
       "\n",
       "    .dataframe tbody tr th {\n",
       "        vertical-align: top;\n",
       "    }\n",
       "\n",
       "    .dataframe thead th {\n",
       "        text-align: right;\n",
       "    }\n",
       "</style>\n",
       "<table border=\"1\" class=\"dataframe\">\n",
       "  <thead>\n",
       "    <tr style=\"text-align: right;\">\n",
       "      <th></th>\n",
       "      <th>Cluster Labels</th>\n",
       "      <th>Name</th>\n",
       "      <th>Address</th>\n",
       "      <th>VenueID</th>\n",
       "      <th>Lat</th>\n",
       "      <th>Lng</th>\n",
       "    </tr>\n",
       "  </thead>\n",
       "  <tbody>\n",
       "    <tr>\n",
       "      <th>1</th>\n",
       "      <td>1</td>\n",
       "      <td>U Bazyla</td>\n",
       "      <td>Norwida 18a</td>\n",
       "      <td>4e18aa3c2271b0e971fea995</td>\n",
       "      <td>52.415897</td>\n",
       "      <td>16.913159</td>\n",
       "    </tr>\n",
       "    <tr>\n",
       "      <th>3</th>\n",
       "      <td>1</td>\n",
       "      <td>U Bazyla</td>\n",
       "      <td>NaN</td>\n",
       "      <td>57ffbc5938faf6f1b8bd00c9</td>\n",
       "      <td>52.416519</td>\n",
       "      <td>16.911341</td>\n",
       "    </tr>\n",
       "  </tbody>\n",
       "</table>\n",
       "</div>"
      ],
      "text/plain": [
       "   Cluster Labels      Name      Address                   VenueID        Lat  \\\n",
       "1               1  U Bazyla  Norwida 18a  4e18aa3c2271b0e971fea995  52.415897   \n",
       "3               1  U Bazyla          NaN  57ffbc5938faf6f1b8bd00c9  52.416519   \n",
       "\n",
       "         Lng  \n",
       "1  16.913159  \n",
       "3  16.911341  "
      ]
     },
     "execution_count": 42,
     "metadata": {},
     "output_type": "execute_result"
    }
   ],
   "source": [
    "df_poznan_fin"
   ]
  },
  {
   "cell_type": "code",
   "execution_count": 43,
   "metadata": {},
   "outputs": [
    {
     "data": {
      "text/html": [
       "<div style=\"width:100%;\"><div style=\"position:relative;width:100%;height:0;padding-bottom:60%;\"><iframe src=\"data:text/html;charset=utf-8;base64,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\" style=\"position:absolute;width:100%;height:100%;left:0;top:0;border:none !important;\" allowfullscreen webkitallowfullscreen mozallowfullscreen></iframe></div></div>"
      ],
      "text/plain": [
       "<folium.folium.Map at 0x2a1a82bc748>"
      ]
     },
     "execution_count": 43,
     "metadata": {},
     "output_type": "execute_result"
    }
   ],
   "source": [
    "# create map\n",
    "latitude=df_poznan_fin['Lat'].mean()\n",
    "longitude=df_poznan_fin['Lng'].mean()\n",
    "map_clusters = folium.Map(location=[latitude, longitude], zoom_start=16)\n",
    "\n",
    "# set color scheme for the clusters\n",
    "#x = np.arange(kclusters)\n",
    "#ys = [i + x + (i*x)**2 for i in range(kclusters)]\n",
    "#colors_array = cm.rainbow(np.linspace(0, 1, len(ys)))\n",
    "#rainbow = [colors.rgb2hex(i) for i in colors_array]\n",
    "\n",
    "# add markers to the map\n",
    "markers_colors = []\n",
    "for lat, lon in zip(df_poznan_fin['Lat'], df_poznan_fin['Lng']):\n",
    "    folium.CircleMarker(\n",
    "        [lat, lon],\n",
    "        radius=5,\n",
    "        #popup=label,\n",
    "        #color='red',\n",
    "        fill=True,\n",
    "        #fill_color=rainbow[cluster-1],\n",
    "        fill_opacity=0.7).add_to(map_clusters)\n",
    "       \n",
    "map_clusters"
   ]
  },
  {
   "cell_type": "code",
   "execution_count": 44,
   "metadata": {},
   "outputs": [],
   "source": [
    "distance_poznan = pdist(df_cluster, 'cityblock')"
   ]
  },
  {
   "cell_type": "code",
   "execution_count": 45,
   "metadata": {},
   "outputs": [
    {
     "name": "stdout",
     "output_type": "stream",
     "text": [
      "The mean Manhattan distance between points equals 0.02106487912992989\n"
     ]
    }
   ],
   "source": [
    "print('The mean Manhattan distance between points equals ' + str(distance_poznan.mean()))"
   ]
  },
  {
   "cell_type": "code",
   "execution_count": 46,
   "metadata": {},
   "outputs": [
    {
     "name": "stdout",
     "output_type": "stream",
     "text": [
      "6.8\n"
     ]
    },
    {
     "ename": "KeyError",
     "evalue": "'rating'",
     "output_type": "error",
     "traceback": [
      "\u001b[1;31m---------------------------------------------------------------------------\u001b[0m",
      "\u001b[1;31mKeyError\u001b[0m                                  Traceback (most recent call last)",
      "\u001b[1;32m<ipython-input-46-e23cfd0835e0>\u001b[0m in \u001b[0;36m<module>\u001b[1;34m()\u001b[0m\n\u001b[0;32m      9\u001b[0m         ) \n\u001b[0;32m     10\u001b[0m     \u001b[0mresults\u001b[0m \u001b[1;33m=\u001b[0m \u001b[0mgrab\u001b[0m \u001b[1;33m=\u001b[0m \u001b[0mrequests\u001b[0m\u001b[1;33m.\u001b[0m\u001b[0mget\u001b[0m\u001b[1;33m(\u001b[0m\u001b[0mURL\u001b[0m\u001b[1;33m)\u001b[0m\u001b[1;33m.\u001b[0m\u001b[0mjson\u001b[0m\u001b[1;33m(\u001b[0m\u001b[1;33m)\u001b[0m\u001b[1;33m\u001b[0m\u001b[0m\n\u001b[1;32m---> 11\u001b[1;33m     \u001b[0mrate\u001b[0m \u001b[1;33m=\u001b[0m \u001b[0mresults\u001b[0m\u001b[1;33m[\u001b[0m\u001b[1;34m'response'\u001b[0m\u001b[1;33m]\u001b[0m\u001b[1;33m[\u001b[0m\u001b[1;34m'venue'\u001b[0m\u001b[1;33m]\u001b[0m\u001b[1;33m[\u001b[0m\u001b[1;34m'rating'\u001b[0m\u001b[1;33m]\u001b[0m\u001b[1;33m\u001b[0m\u001b[0m\n\u001b[0m\u001b[0;32m     12\u001b[0m     \u001b[0mratings\u001b[0m\u001b[1;33m[\u001b[0m\u001b[0mid\u001b[0m\u001b[1;33m]\u001b[0m\u001b[1;33m=\u001b[0m\u001b[0mrate\u001b[0m\u001b[1;33m\u001b[0m\u001b[0m\n\u001b[0;32m     13\u001b[0m     \u001b[0mi\u001b[0m\u001b[1;33m=\u001b[0m\u001b[0mi\u001b[0m\u001b[1;33m+\u001b[0m\u001b[1;36m1\u001b[0m\u001b[1;33m\u001b[0m\u001b[0m\n",
      "\u001b[1;31mKeyError\u001b[0m: 'rating'"
     ]
    }
   ],
   "source": [
    "ratings={}\n",
    "i=0\n",
    "for id in df_poznan_fin['VenueID']:\n",
    "    URL = 'https://api.foursquare.com/v2/venues/{}?&client_id={}&client_secret={}&v={}'.format(\n",
    "        id,\n",
    "        CLIENT_ID, \n",
    "        CLIENT_SECRET, \n",
    "        VERSION, \n",
    "        ) \n",
    "    results = grab = requests.get(URL).json()\n",
    "    rate = results['response']['venue']['rating']\n",
    "    ratings[id]=rate\n",
    "    i=i+1\n",
    "    print(results['response']['venue']['rating'])\n",
    "    \n",
    "df_poznan_fin['Rating']=df_poznan_fin['VenueID'].map(ratings)\n",
    "df_poznan_fin"
   ]
  },
  {
   "cell_type": "code",
   "execution_count": 47,
   "metadata": {},
   "outputs": [
    {
     "name": "stderr",
     "output_type": "stream",
     "text": [
      "D:\\Anaconda\\lib\\site-packages\\ipykernel_launcher.py:1: SettingWithCopyWarning: \n",
      "A value is trying to be set on a copy of a slice from a DataFrame.\n",
      "Try using .loc[row_indexer,col_indexer] = value instead\n",
      "\n",
      "See the caveats in the documentation: http://pandas.pydata.org/pandas-docs/stable/indexing.html#indexing-view-versus-copy\n",
      "  \"\"\"Entry point for launching an IPython kernel.\n"
     ]
    },
    {
     "data": {
      "text/html": [
       "<div>\n",
       "<style scoped>\n",
       "    .dataframe tbody tr th:only-of-type {\n",
       "        vertical-align: middle;\n",
       "    }\n",
       "\n",
       "    .dataframe tbody tr th {\n",
       "        vertical-align: top;\n",
       "    }\n",
       "\n",
       "    .dataframe thead th {\n",
       "        text-align: right;\n",
       "    }\n",
       "</style>\n",
       "<table border=\"1\" class=\"dataframe\">\n",
       "  <thead>\n",
       "    <tr style=\"text-align: right;\">\n",
       "      <th></th>\n",
       "      <th>Cluster Labels</th>\n",
       "      <th>Name</th>\n",
       "      <th>Address</th>\n",
       "      <th>VenueID</th>\n",
       "      <th>Lat</th>\n",
       "      <th>Lng</th>\n",
       "      <th>Rating</th>\n",
       "    </tr>\n",
       "  </thead>\n",
       "  <tbody>\n",
       "    <tr>\n",
       "      <th>1</th>\n",
       "      <td>1</td>\n",
       "      <td>U Bazyla</td>\n",
       "      <td>Norwida 18a</td>\n",
       "      <td>4e18aa3c2271b0e971fea995</td>\n",
       "      <td>52.415897</td>\n",
       "      <td>16.913159</td>\n",
       "      <td>6.8</td>\n",
       "    </tr>\n",
       "    <tr>\n",
       "      <th>3</th>\n",
       "      <td>1</td>\n",
       "      <td>U Bazyla</td>\n",
       "      <td>NaN</td>\n",
       "      <td>57ffbc5938faf6f1b8bd00c9</td>\n",
       "      <td>52.416519</td>\n",
       "      <td>16.911341</td>\n",
       "      <td>NaN</td>\n",
       "    </tr>\n",
       "  </tbody>\n",
       "</table>\n",
       "</div>"
      ],
      "text/plain": [
       "   Cluster Labels      Name      Address                   VenueID        Lat  \\\n",
       "1               1  U Bazyla  Norwida 18a  4e18aa3c2271b0e971fea995  52.415897   \n",
       "3               1  U Bazyla          NaN  57ffbc5938faf6f1b8bd00c9  52.416519   \n",
       "\n",
       "         Lng  Rating  \n",
       "1  16.913159     6.8  \n",
       "3  16.911341     NaN  "
      ]
     },
     "execution_count": 47,
     "metadata": {},
     "output_type": "execute_result"
    }
   ],
   "source": [
    "df_poznan_fin['Rating']=df_poznan_fin['VenueID'].map(ratings)\n",
    "df_poznan_fin"
   ]
  },
  {
   "cell_type": "markdown",
   "metadata": {},
   "source": [
    "<h2>Warsaw</h2>"
   ]
  },
  {
   "cell_type": "code",
   "execution_count": 48,
   "metadata": {},
   "outputs": [
    {
     "data": {
      "text/plain": [
       "array([3, 3, 3, 0, 2, 3, 3, 2, 0, 1, 3, 0, 2])"
      ]
     },
     "execution_count": 48,
     "metadata": {},
     "output_type": "execute_result"
    }
   ],
   "source": [
    "df_cluster = df_warsaw.drop(['Name','Address', 'VenueID'], 1)\n",
    "kclusters = 4\n",
    "kmeans = KMeans(n_clusters=kclusters, random_state=0).fit(df_cluster)\n",
    "kmeans.labels_[0:13]"
   ]
  },
  {
   "cell_type": "code",
   "execution_count": 49,
   "metadata": {},
   "outputs": [
    {
     "data": {
      "text/html": [
       "<div>\n",
       "<style scoped>\n",
       "    .dataframe tbody tr th:only-of-type {\n",
       "        vertical-align: middle;\n",
       "    }\n",
       "\n",
       "    .dataframe tbody tr th {\n",
       "        vertical-align: top;\n",
       "    }\n",
       "\n",
       "    .dataframe thead th {\n",
       "        text-align: right;\n",
       "    }\n",
       "</style>\n",
       "<table border=\"1\" class=\"dataframe\">\n",
       "  <thead>\n",
       "    <tr style=\"text-align: right;\">\n",
       "      <th></th>\n",
       "      <th>Cluster Labels</th>\n",
       "      <th>Name</th>\n",
       "      <th>Address</th>\n",
       "      <th>VenueID</th>\n",
       "      <th>Lat</th>\n",
       "      <th>Lng</th>\n",
       "    </tr>\n",
       "  </thead>\n",
       "  <tbody>\n",
       "    <tr>\n",
       "      <th>0</th>\n",
       "      <td>3</td>\n",
       "      <td>miejsce Chwila</td>\n",
       "      <td>Żurawia 47</td>\n",
       "      <td>4ca4d4a75720b1f7db6d3def</td>\n",
       "      <td>52.227504</td>\n",
       "      <td>21.011277</td>\n",
       "    </tr>\n",
       "    <tr>\n",
       "      <th>1</th>\n",
       "      <td>3</td>\n",
       "      <td>Hard Rock Cafe Warsaw</td>\n",
       "      <td>Ul. Zlota 59, Złote Tarasy, Mazovia Province</td>\n",
       "      <td>4b8d7690f964a5202ffd32e3</td>\n",
       "      <td>52.230041</td>\n",
       "      <td>21.003797</td>\n",
       "    </tr>\n",
       "  </tbody>\n",
       "</table>\n",
       "</div>"
      ],
      "text/plain": [
       "   Cluster Labels                   Name  \\\n",
       "0               3         miejsce Chwila   \n",
       "1               3  Hard Rock Cafe Warsaw   \n",
       "\n",
       "                                        Address                   VenueID  \\\n",
       "0                                    Żurawia 47  4ca4d4a75720b1f7db6d3def   \n",
       "1  Ul. Zlota 59, Złote Tarasy, Mazovia Province  4b8d7690f964a5202ffd32e3   \n",
       "\n",
       "         Lat        Lng  \n",
       "0  52.227504  21.011277  \n",
       "1  52.230041  21.003797  "
      ]
     },
     "execution_count": 49,
     "metadata": {},
     "output_type": "execute_result"
    }
   ],
   "source": [
    "df_warsaw.insert(0, 'Cluster Labels', kmeans.labels_)\n",
    "df_warsaw.head(2)"
   ]
  },
  {
   "cell_type": "code",
   "execution_count": 54,
   "metadata": {},
   "outputs": [
    {
     "data": {
      "text/html": [
       "<div style=\"width:100%;\"><div style=\"position:relative;width:100%;height:0;padding-bottom:60%;\"><iframe src=\"data:text/html;charset=utf-8;base64,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\" style=\"position:absolute;width:100%;height:100%;left:0;top:0;border:none !important;\" allowfullscreen webkitallowfullscreen mozallowfullscreen></iframe></div></div>"
      ],
      "text/plain": [
       "<folium.folium.Map at 0x2a1a9308780>"
      ]
     },
     "execution_count": 54,
     "metadata": {},
     "output_type": "execute_result"
    }
   ],
   "source": [
    "# create map\n",
    "latitude=df_warsaw['Lat'].mean()\n",
    "longitude=df_warsaw['Lng'].mean()\n",
    "map_clusters = folium.Map(location=[latitude, longitude], zoom_start=12)\n",
    "\n",
    "# set color scheme for the clusters\n",
    "x = np.arange(kclusters)\n",
    "ys = [i + x + (i*x)**2 for i in range(kclusters)]\n",
    "colors_array = cm.rainbow(np.linspace(0, 1, len(ys)))\n",
    "rainbow = [colors.rgb2hex(i) for i in colors_array]\n",
    "\n",
    "# add markers to the map\n",
    "markers_colors = []\n",
    "for lat, lon, cluster in zip(df_warsaw['Lat'], df_warsaw['Lng'],  df_warsaw['Cluster Labels']):\n",
    "    label = folium.Popup(' Cluster ' + str(cluster), parse_html=True)\n",
    "    folium.CircleMarker(\n",
    "        [lat, lon],\n",
    "        radius=5,\n",
    "        popup=label,\n",
    "        color=rainbow[cluster-1],\n",
    "        fill=True,\n",
    "        fill_color=rainbow[cluster-1],\n",
    "        fill_opacity=0.7).add_to(map_clusters)\n",
    "       \n",
    "map_clusters"
   ]
  },
  {
   "cell_type": "code",
   "execution_count": 51,
   "metadata": {},
   "outputs": [
    {
     "data": {
      "text/plain": [
       "3    15\n",
       "0     6\n",
       "2     4\n",
       "1     1\n",
       "Name: Cluster Labels, dtype: int64"
      ]
     },
     "execution_count": 51,
     "metadata": {},
     "output_type": "execute_result"
    }
   ],
   "source": [
    "df_warsaw['Cluster Labels'].value_counts()"
   ]
  },
  {
   "cell_type": "markdown",
   "metadata": {},
   "source": [
    "Cluster 3 will be considered, since while cluster 0 has more venues, it's also more spread out."
   ]
  },
  {
   "cell_type": "code",
   "execution_count": 55,
   "metadata": {},
   "outputs": [
    {
     "data": {
      "text/html": [
       "<div>\n",
       "<style scoped>\n",
       "    .dataframe tbody tr th:only-of-type {\n",
       "        vertical-align: middle;\n",
       "    }\n",
       "\n",
       "    .dataframe tbody tr th {\n",
       "        vertical-align: top;\n",
       "    }\n",
       "\n",
       "    .dataframe thead th {\n",
       "        text-align: right;\n",
       "    }\n",
       "</style>\n",
       "<table border=\"1\" class=\"dataframe\">\n",
       "  <thead>\n",
       "    <tr style=\"text-align: right;\">\n",
       "      <th></th>\n",
       "      <th>Cluster Labels</th>\n",
       "      <th>Name</th>\n",
       "      <th>Address</th>\n",
       "      <th>VenueID</th>\n",
       "      <th>Lat</th>\n",
       "      <th>Lng</th>\n",
       "    </tr>\n",
       "  </thead>\n",
       "  <tbody>\n",
       "    <tr>\n",
       "      <th>0</th>\n",
       "      <td>3</td>\n",
       "      <td>miejsce Chwila</td>\n",
       "      <td>Żurawia 47</td>\n",
       "      <td>4ca4d4a75720b1f7db6d3def</td>\n",
       "      <td>52.227504</td>\n",
       "      <td>21.011277</td>\n",
       "    </tr>\n",
       "    <tr>\n",
       "      <th>1</th>\n",
       "      <td>3</td>\n",
       "      <td>Hard Rock Cafe Warsaw</td>\n",
       "      <td>Ul. Zlota 59, Złote Tarasy, Mazovia Province</td>\n",
       "      <td>4b8d7690f964a5202ffd32e3</td>\n",
       "      <td>52.230041</td>\n",
       "      <td>21.003797</td>\n",
       "    </tr>\n",
       "    <tr>\n",
       "      <th>2</th>\n",
       "      <td>3</td>\n",
       "      <td>12on14 Jazz Club</td>\n",
       "      <td>Noakowskiego 16</td>\n",
       "      <td>552e56de498ea54019222068</td>\n",
       "      <td>52.221727</td>\n",
       "      <td>21.010365</td>\n",
       "    </tr>\n",
       "    <tr>\n",
       "      <th>5</th>\n",
       "      <td>3</td>\n",
       "      <td>Side One</td>\n",
       "      <td>Chmielna 21</td>\n",
       "      <td>4e00fe1bb61c1fbe8dfc32ad</td>\n",
       "      <td>52.232110</td>\n",
       "      <td>21.014636</td>\n",
       "    </tr>\n",
       "    <tr>\n",
       "      <th>6</th>\n",
       "      <td>3</td>\n",
       "      <td>Spotkanie</td>\n",
       "      <td>Zygmunta Krasińskiego 2A</td>\n",
       "      <td>4c56b74e744a0f47f038c7cb</td>\n",
       "      <td>52.270811</td>\n",
       "      <td>20.992151</td>\n",
       "    </tr>\n",
       "    <tr>\n",
       "      <th>10</th>\n",
       "      <td>3</td>\n",
       "      <td>Klub Harenda</td>\n",
       "      <td>Krakowskie Przedmieście 4/6</td>\n",
       "      <td>4bd8408d35aad13a7f6390f3</td>\n",
       "      <td>52.238910</td>\n",
       "      <td>21.019010</td>\n",
       "    </tr>\n",
       "    <tr>\n",
       "      <th>16</th>\n",
       "      <td>3</td>\n",
       "      <td>Rock On</td>\n",
       "      <td>NaN</td>\n",
       "      <td>53347b9c498e1087fbda511c</td>\n",
       "      <td>52.238282</td>\n",
       "      <td>21.012887</td>\n",
       "    </tr>\n",
       "    <tr>\n",
       "      <th>17</th>\n",
       "      <td>3</td>\n",
       "      <td>Jazzarium Cafe</td>\n",
       "      <td>Wilcza 50/52</td>\n",
       "      <td>4eac58829adfbd5e5debe7dd</td>\n",
       "      <td>52.224138</td>\n",
       "      <td>21.012222</td>\n",
       "    </tr>\n",
       "    <tr>\n",
       "      <th>18</th>\n",
       "      <td>3</td>\n",
       "      <td>Lfx2</td>\n",
       "      <td>al.Jana Pawla II 43a lok 18a</td>\n",
       "      <td>4c99c0e3a004a1cd6944426e</td>\n",
       "      <td>52.242933</td>\n",
       "      <td>20.992144</td>\n",
       "    </tr>\n",
       "    <tr>\n",
       "      <th>19</th>\n",
       "      <td>3</td>\n",
       "      <td>Akwarium Jazz Club</td>\n",
       "      <td>NaN</td>\n",
       "      <td>5980d561237dee2ae99c3009</td>\n",
       "      <td>52.244324</td>\n",
       "      <td>21.014235</td>\n",
       "    </tr>\n",
       "    <tr>\n",
       "      <th>20</th>\n",
       "      <td>3</td>\n",
       "      <td>Jazz na Starówce</td>\n",
       "      <td>NaN</td>\n",
       "      <td>500af0d5e4b01eff3128c06e</td>\n",
       "      <td>52.249623</td>\n",
       "      <td>21.012141</td>\n",
       "    </tr>\n",
       "    <tr>\n",
       "      <th>21</th>\n",
       "      <td>3</td>\n",
       "      <td>Saturator</td>\n",
       "      <td>11 Listopada 22</td>\n",
       "      <td>4bc44828abf495214ccbc493</td>\n",
       "      <td>52.259343</td>\n",
       "      <td>21.036654</td>\n",
       "    </tr>\n",
       "    <tr>\n",
       "      <th>23</th>\n",
       "      <td>3</td>\n",
       "      <td>Riff Pl. Konstytucji</td>\n",
       "      <td>NaN</td>\n",
       "      <td>4c810fc674d7b60cfad072d8</td>\n",
       "      <td>52.222813</td>\n",
       "      <td>21.015703</td>\n",
       "    </tr>\n",
       "    <tr>\n",
       "      <th>24</th>\n",
       "      <td>3</td>\n",
       "      <td>Hałas Vinyl + Coffee Saska Kępa</td>\n",
       "      <td>Elsterska 10</td>\n",
       "      <td>5c56f0c2b9ac38002c73da0b</td>\n",
       "      <td>52.237644</td>\n",
       "      <td>21.053778</td>\n",
       "    </tr>\n",
       "    <tr>\n",
       "      <th>25</th>\n",
       "      <td>3</td>\n",
       "      <td>Tygmont</td>\n",
       "      <td>Mazowiecka 6/8</td>\n",
       "      <td>4ccf2e817b685481fd2cbaf8</td>\n",
       "      <td>52.236988</td>\n",
       "      <td>21.013153</td>\n",
       "    </tr>\n",
       "  </tbody>\n",
       "</table>\n",
       "</div>"
      ],
      "text/plain": [
       "    Cluster Labels                             Name  \\\n",
       "0                3                   miejsce Chwila   \n",
       "1                3            Hard Rock Cafe Warsaw   \n",
       "2                3                 12on14 Jazz Club   \n",
       "5                3                         Side One   \n",
       "6                3                        Spotkanie   \n",
       "10               3                     Klub Harenda   \n",
       "16               3                          Rock On   \n",
       "17               3                   Jazzarium Cafe   \n",
       "18               3                             Lfx2   \n",
       "19               3               Akwarium Jazz Club   \n",
       "20               3                 Jazz na Starówce   \n",
       "21               3                        Saturator   \n",
       "23               3             Riff Pl. Konstytucji   \n",
       "24               3  Hałas Vinyl + Coffee Saska Kępa   \n",
       "25               3                          Tygmont   \n",
       "\n",
       "                                         Address                   VenueID  \\\n",
       "0                                     Żurawia 47  4ca4d4a75720b1f7db6d3def   \n",
       "1   Ul. Zlota 59, Złote Tarasy, Mazovia Province  4b8d7690f964a5202ffd32e3   \n",
       "2                                Noakowskiego 16  552e56de498ea54019222068   \n",
       "5                                    Chmielna 21  4e00fe1bb61c1fbe8dfc32ad   \n",
       "6                       Zygmunta Krasińskiego 2A  4c56b74e744a0f47f038c7cb   \n",
       "10                   Krakowskie Przedmieście 4/6  4bd8408d35aad13a7f6390f3   \n",
       "16                                           NaN  53347b9c498e1087fbda511c   \n",
       "17                                  Wilcza 50/52  4eac58829adfbd5e5debe7dd   \n",
       "18                  al.Jana Pawla II 43a lok 18a  4c99c0e3a004a1cd6944426e   \n",
       "19                                           NaN  5980d561237dee2ae99c3009   \n",
       "20                                           NaN  500af0d5e4b01eff3128c06e   \n",
       "21                               11 Listopada 22  4bc44828abf495214ccbc493   \n",
       "23                                           NaN  4c810fc674d7b60cfad072d8   \n",
       "24                                  Elsterska 10  5c56f0c2b9ac38002c73da0b   \n",
       "25                                Mazowiecka 6/8  4ccf2e817b685481fd2cbaf8   \n",
       "\n",
       "          Lat        Lng  \n",
       "0   52.227504  21.011277  \n",
       "1   52.230041  21.003797  \n",
       "2   52.221727  21.010365  \n",
       "5   52.232110  21.014636  \n",
       "6   52.270811  20.992151  \n",
       "10  52.238910  21.019010  \n",
       "16  52.238282  21.012887  \n",
       "17  52.224138  21.012222  \n",
       "18  52.242933  20.992144  \n",
       "19  52.244324  21.014235  \n",
       "20  52.249623  21.012141  \n",
       "21  52.259343  21.036654  \n",
       "23  52.222813  21.015703  \n",
       "24  52.237644  21.053778  \n",
       "25  52.236988  21.013153  "
      ]
     },
     "execution_count": 55,
     "metadata": {},
     "output_type": "execute_result"
    }
   ],
   "source": [
    "df_warsaw_fin = df_warsaw.loc[df_warsaw['Cluster Labels'] == 3]\n",
    "df_warsaw_fin"
   ]
  },
  {
   "cell_type": "code",
   "execution_count": 56,
   "metadata": {},
   "outputs": [
    {
     "data": {
      "text/html": [
       "<div style=\"width:100%;\"><div style=\"position:relative;width:100%;height:0;padding-bottom:60%;\"><iframe src=\"data:text/html;charset=utf-8;base64,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\" style=\"position:absolute;width:100%;height:100%;left:0;top:0;border:none !important;\" allowfullscreen webkitallowfullscreen mozallowfullscreen></iframe></div></div>"
      ],
      "text/plain": [
       "<folium.folium.Map at 0x2a1a92f8c18>"
      ]
     },
     "execution_count": 56,
     "metadata": {},
     "output_type": "execute_result"
    }
   ],
   "source": [
    "# create map\n",
    "latitude=df_warsaw_fin['Lat'].mean()\n",
    "longitude=df_warsaw_fin['Lng'].mean()\n",
    "map_clusters = folium.Map(location=[latitude, longitude], zoom_start=13)\n",
    "\n",
    "# set color scheme for the clusters\n",
    "#x = np.arange(kclusters)\n",
    "#ys = [i + x + (i*x)**2 for i in range(kclusters)]\n",
    "#colors_array = cm.rainbow(np.linspace(0, 1, len(ys)))\n",
    "#rainbow = [colors.rgb2hex(i) for i in colors_array]\n",
    "\n",
    "# add markers to the map\n",
    "markers_colors = []\n",
    "for lat, lon in zip(df_warsaw_fin['Lat'], df_warsaw_fin['Lng']):\n",
    "    folium.CircleMarker(\n",
    "        [lat, lon],\n",
    "        radius=5,\n",
    "        #popup=label,\n",
    "        #color='red',\n",
    "        fill=True,\n",
    "        #fill_color=rainbow[cluster-1],\n",
    "        fill_opacity=0.7).add_to(map_clusters)\n",
    "       \n",
    "map_clusters"
   ]
  },
  {
   "cell_type": "code",
   "execution_count": 57,
   "metadata": {},
   "outputs": [
    {
     "name": "stdout",
     "output_type": "stream",
     "text": [
      "The mean Manhattan distance between points equals 0.05948023894761677\n"
     ]
    }
   ],
   "source": [
    "distance_warsaw = pdist(df_cluster, 'cityblock')\n",
    "print('The mean Manhattan distance between points equals ' + str(distance_warsaw.mean()))"
   ]
  },
  {
   "cell_type": "code",
   "execution_count": 60,
   "metadata": {},
   "outputs": [
    {
     "name": "stdout",
     "output_type": "stream",
     "text": [
      "7.9\n",
      "8.0\n",
      "7.7\n",
      "7.2\n",
      "7.2\n",
      "5.8\n"
     ]
    },
    {
     "ename": "KeyError",
     "evalue": "'rating'",
     "output_type": "error",
     "traceback": [
      "\u001b[1;31m---------------------------------------------------------------------------\u001b[0m",
      "\u001b[1;31mKeyError\u001b[0m                                  Traceback (most recent call last)",
      "\u001b[1;32m<ipython-input-60-fd25488e49f7>\u001b[0m in \u001b[0;36m<module>\u001b[1;34m()\u001b[0m\n\u001b[0;32m      9\u001b[0m         ) \n\u001b[0;32m     10\u001b[0m     \u001b[0mresults\u001b[0m \u001b[1;33m=\u001b[0m \u001b[0mgrab\u001b[0m \u001b[1;33m=\u001b[0m \u001b[0mrequests\u001b[0m\u001b[1;33m.\u001b[0m\u001b[0mget\u001b[0m\u001b[1;33m(\u001b[0m\u001b[0mURL\u001b[0m\u001b[1;33m)\u001b[0m\u001b[1;33m.\u001b[0m\u001b[0mjson\u001b[0m\u001b[1;33m(\u001b[0m\u001b[1;33m)\u001b[0m\u001b[1;33m\u001b[0m\u001b[0m\n\u001b[1;32m---> 11\u001b[1;33m     \u001b[0mrate\u001b[0m \u001b[1;33m=\u001b[0m \u001b[0mresults\u001b[0m\u001b[1;33m[\u001b[0m\u001b[1;34m'response'\u001b[0m\u001b[1;33m]\u001b[0m\u001b[1;33m[\u001b[0m\u001b[1;34m'venue'\u001b[0m\u001b[1;33m]\u001b[0m\u001b[1;33m[\u001b[0m\u001b[1;34m'rating'\u001b[0m\u001b[1;33m]\u001b[0m\u001b[1;33m\u001b[0m\u001b[0m\n\u001b[0m\u001b[0;32m     12\u001b[0m     \u001b[0mratings\u001b[0m\u001b[1;33m[\u001b[0m\u001b[0mid\u001b[0m\u001b[1;33m]\u001b[0m\u001b[1;33m=\u001b[0m\u001b[0mrate\u001b[0m\u001b[1;33m\u001b[0m\u001b[0m\n\u001b[0;32m     13\u001b[0m     \u001b[0mi\u001b[0m\u001b[1;33m=\u001b[0m\u001b[0mi\u001b[0m\u001b[1;33m+\u001b[0m\u001b[1;36m1\u001b[0m\u001b[1;33m\u001b[0m\u001b[0m\n",
      "\u001b[1;31mKeyError\u001b[0m: 'rating'"
     ]
    }
   ],
   "source": [
    "ratings={}\n",
    "i=0\n",
    "for id in df_warsaw_fin['VenueID']:\n",
    "    URL = 'https://api.foursquare.com/v2/venues/{}?&client_id={}&client_secret={}&v={}'.format(\n",
    "        id,\n",
    "        CLIENT_ID, \n",
    "        CLIENT_SECRET, \n",
    "        VERSION, \n",
    "        ) \n",
    "    results = grab = requests.get(URL).json()\n",
    "    rate = results['response']['venue']['rating']\n",
    "    ratings[id]=rate\n",
    "    i=i+1\n",
    "    print(results['response']['venue']['rating'])\n",
    "    "
   ]
  },
  {
   "cell_type": "code",
   "execution_count": 59,
   "metadata": {},
   "outputs": [
    {
     "name": "stderr",
     "output_type": "stream",
     "text": [
      "D:\\Anaconda\\lib\\site-packages\\ipykernel_launcher.py:1: SettingWithCopyWarning: \n",
      "A value is trying to be set on a copy of a slice from a DataFrame.\n",
      "Try using .loc[row_indexer,col_indexer] = value instead\n",
      "\n",
      "See the caveats in the documentation: http://pandas.pydata.org/pandas-docs/stable/indexing.html#indexing-view-versus-copy\n",
      "  \"\"\"Entry point for launching an IPython kernel.\n"
     ]
    },
    {
     "data": {
      "text/html": [
       "<div>\n",
       "<style scoped>\n",
       "    .dataframe tbody tr th:only-of-type {\n",
       "        vertical-align: middle;\n",
       "    }\n",
       "\n",
       "    .dataframe tbody tr th {\n",
       "        vertical-align: top;\n",
       "    }\n",
       "\n",
       "    .dataframe thead th {\n",
       "        text-align: right;\n",
       "    }\n",
       "</style>\n",
       "<table border=\"1\" class=\"dataframe\">\n",
       "  <thead>\n",
       "    <tr style=\"text-align: right;\">\n",
       "      <th></th>\n",
       "      <th>Cluster Labels</th>\n",
       "      <th>Name</th>\n",
       "      <th>Address</th>\n",
       "      <th>VenueID</th>\n",
       "      <th>Lat</th>\n",
       "      <th>Lng</th>\n",
       "      <th>Rating</th>\n",
       "    </tr>\n",
       "  </thead>\n",
       "  <tbody>\n",
       "    <tr>\n",
       "      <th>0</th>\n",
       "      <td>3</td>\n",
       "      <td>miejsce Chwila</td>\n",
       "      <td>Żurawia 47</td>\n",
       "      <td>4ca4d4a75720b1f7db6d3def</td>\n",
       "      <td>52.227504</td>\n",
       "      <td>21.011277</td>\n",
       "      <td>7.9</td>\n",
       "    </tr>\n",
       "    <tr>\n",
       "      <th>1</th>\n",
       "      <td>3</td>\n",
       "      <td>Hard Rock Cafe Warsaw</td>\n",
       "      <td>Ul. Zlota 59, Złote Tarasy, Mazovia Province</td>\n",
       "      <td>4b8d7690f964a5202ffd32e3</td>\n",
       "      <td>52.230041</td>\n",
       "      <td>21.003797</td>\n",
       "      <td>8.0</td>\n",
       "    </tr>\n",
       "    <tr>\n",
       "      <th>2</th>\n",
       "      <td>3</td>\n",
       "      <td>12on14 Jazz Club</td>\n",
       "      <td>Noakowskiego 16</td>\n",
       "      <td>552e56de498ea54019222068</td>\n",
       "      <td>52.221727</td>\n",
       "      <td>21.010365</td>\n",
       "      <td>7.7</td>\n",
       "    </tr>\n",
       "    <tr>\n",
       "      <th>5</th>\n",
       "      <td>3</td>\n",
       "      <td>Side One</td>\n",
       "      <td>Chmielna 21</td>\n",
       "      <td>4e00fe1bb61c1fbe8dfc32ad</td>\n",
       "      <td>52.232110</td>\n",
       "      <td>21.014636</td>\n",
       "      <td>7.2</td>\n",
       "    </tr>\n",
       "    <tr>\n",
       "      <th>6</th>\n",
       "      <td>3</td>\n",
       "      <td>Spotkanie</td>\n",
       "      <td>Zygmunta Krasińskiego 2A</td>\n",
       "      <td>4c56b74e744a0f47f038c7cb</td>\n",
       "      <td>52.270811</td>\n",
       "      <td>20.992151</td>\n",
       "      <td>7.2</td>\n",
       "    </tr>\n",
       "    <tr>\n",
       "      <th>10</th>\n",
       "      <td>3</td>\n",
       "      <td>Klub Harenda</td>\n",
       "      <td>Krakowskie Przedmieście 4/6</td>\n",
       "      <td>4bd8408d35aad13a7f6390f3</td>\n",
       "      <td>52.238910</td>\n",
       "      <td>21.019010</td>\n",
       "      <td>5.8</td>\n",
       "    </tr>\n",
       "    <tr>\n",
       "      <th>16</th>\n",
       "      <td>3</td>\n",
       "      <td>Rock On</td>\n",
       "      <td>NaN</td>\n",
       "      <td>53347b9c498e1087fbda511c</td>\n",
       "      <td>52.238282</td>\n",
       "      <td>21.012887</td>\n",
       "      <td>NaN</td>\n",
       "    </tr>\n",
       "    <tr>\n",
       "      <th>17</th>\n",
       "      <td>3</td>\n",
       "      <td>Jazzarium Cafe</td>\n",
       "      <td>Wilcza 50/52</td>\n",
       "      <td>4eac58829adfbd5e5debe7dd</td>\n",
       "      <td>52.224138</td>\n",
       "      <td>21.012222</td>\n",
       "      <td>NaN</td>\n",
       "    </tr>\n",
       "    <tr>\n",
       "      <th>18</th>\n",
       "      <td>3</td>\n",
       "      <td>Lfx2</td>\n",
       "      <td>al.Jana Pawla II 43a lok 18a</td>\n",
       "      <td>4c99c0e3a004a1cd6944426e</td>\n",
       "      <td>52.242933</td>\n",
       "      <td>20.992144</td>\n",
       "      <td>NaN</td>\n",
       "    </tr>\n",
       "    <tr>\n",
       "      <th>19</th>\n",
       "      <td>3</td>\n",
       "      <td>Akwarium Jazz Club</td>\n",
       "      <td>NaN</td>\n",
       "      <td>5980d561237dee2ae99c3009</td>\n",
       "      <td>52.244324</td>\n",
       "      <td>21.014235</td>\n",
       "      <td>NaN</td>\n",
       "    </tr>\n",
       "    <tr>\n",
       "      <th>20</th>\n",
       "      <td>3</td>\n",
       "      <td>Jazz na Starówce</td>\n",
       "      <td>NaN</td>\n",
       "      <td>500af0d5e4b01eff3128c06e</td>\n",
       "      <td>52.249623</td>\n",
       "      <td>21.012141</td>\n",
       "      <td>NaN</td>\n",
       "    </tr>\n",
       "    <tr>\n",
       "      <th>21</th>\n",
       "      <td>3</td>\n",
       "      <td>Saturator</td>\n",
       "      <td>11 Listopada 22</td>\n",
       "      <td>4bc44828abf495214ccbc493</td>\n",
       "      <td>52.259343</td>\n",
       "      <td>21.036654</td>\n",
       "      <td>NaN</td>\n",
       "    </tr>\n",
       "    <tr>\n",
       "      <th>23</th>\n",
       "      <td>3</td>\n",
       "      <td>Riff Pl. Konstytucji</td>\n",
       "      <td>NaN</td>\n",
       "      <td>4c810fc674d7b60cfad072d8</td>\n",
       "      <td>52.222813</td>\n",
       "      <td>21.015703</td>\n",
       "      <td>NaN</td>\n",
       "    </tr>\n",
       "    <tr>\n",
       "      <th>24</th>\n",
       "      <td>3</td>\n",
       "      <td>Hałas Vinyl + Coffee Saska Kępa</td>\n",
       "      <td>Elsterska 10</td>\n",
       "      <td>5c56f0c2b9ac38002c73da0b</td>\n",
       "      <td>52.237644</td>\n",
       "      <td>21.053778</td>\n",
       "      <td>NaN</td>\n",
       "    </tr>\n",
       "    <tr>\n",
       "      <th>25</th>\n",
       "      <td>3</td>\n",
       "      <td>Tygmont</td>\n",
       "      <td>Mazowiecka 6/8</td>\n",
       "      <td>4ccf2e817b685481fd2cbaf8</td>\n",
       "      <td>52.236988</td>\n",
       "      <td>21.013153</td>\n",
       "      <td>NaN</td>\n",
       "    </tr>\n",
       "  </tbody>\n",
       "</table>\n",
       "</div>"
      ],
      "text/plain": [
       "    Cluster Labels                             Name  \\\n",
       "0                3                   miejsce Chwila   \n",
       "1                3            Hard Rock Cafe Warsaw   \n",
       "2                3                 12on14 Jazz Club   \n",
       "5                3                         Side One   \n",
       "6                3                        Spotkanie   \n",
       "10               3                     Klub Harenda   \n",
       "16               3                          Rock On   \n",
       "17               3                   Jazzarium Cafe   \n",
       "18               3                             Lfx2   \n",
       "19               3               Akwarium Jazz Club   \n",
       "20               3                 Jazz na Starówce   \n",
       "21               3                        Saturator   \n",
       "23               3             Riff Pl. Konstytucji   \n",
       "24               3  Hałas Vinyl + Coffee Saska Kępa   \n",
       "25               3                          Tygmont   \n",
       "\n",
       "                                         Address                   VenueID  \\\n",
       "0                                     Żurawia 47  4ca4d4a75720b1f7db6d3def   \n",
       "1   Ul. Zlota 59, Złote Tarasy, Mazovia Province  4b8d7690f964a5202ffd32e3   \n",
       "2                                Noakowskiego 16  552e56de498ea54019222068   \n",
       "5                                    Chmielna 21  4e00fe1bb61c1fbe8dfc32ad   \n",
       "6                       Zygmunta Krasińskiego 2A  4c56b74e744a0f47f038c7cb   \n",
       "10                   Krakowskie Przedmieście 4/6  4bd8408d35aad13a7f6390f3   \n",
       "16                                           NaN  53347b9c498e1087fbda511c   \n",
       "17                                  Wilcza 50/52  4eac58829adfbd5e5debe7dd   \n",
       "18                  al.Jana Pawla II 43a lok 18a  4c99c0e3a004a1cd6944426e   \n",
       "19                                           NaN  5980d561237dee2ae99c3009   \n",
       "20                                           NaN  500af0d5e4b01eff3128c06e   \n",
       "21                               11 Listopada 22  4bc44828abf495214ccbc493   \n",
       "23                                           NaN  4c810fc674d7b60cfad072d8   \n",
       "24                                  Elsterska 10  5c56f0c2b9ac38002c73da0b   \n",
       "25                                Mazowiecka 6/8  4ccf2e817b685481fd2cbaf8   \n",
       "\n",
       "          Lat        Lng  Rating  \n",
       "0   52.227504  21.011277     7.9  \n",
       "1   52.230041  21.003797     8.0  \n",
       "2   52.221727  21.010365     7.7  \n",
       "5   52.232110  21.014636     7.2  \n",
       "6   52.270811  20.992151     7.2  \n",
       "10  52.238910  21.019010     5.8  \n",
       "16  52.238282  21.012887     NaN  \n",
       "17  52.224138  21.012222     NaN  \n",
       "18  52.242933  20.992144     NaN  \n",
       "19  52.244324  21.014235     NaN  \n",
       "20  52.249623  21.012141     NaN  \n",
       "21  52.259343  21.036654     NaN  \n",
       "23  52.222813  21.015703     NaN  \n",
       "24  52.237644  21.053778     NaN  \n",
       "25  52.236988  21.013153     NaN  "
      ]
     },
     "execution_count": 59,
     "metadata": {},
     "output_type": "execute_result"
    }
   ],
   "source": [
    "df_warsaw_fin['Rating']=df_warsaw_fin['VenueID'].map(ratings)\n",
    "df_warsaw_fin"
   ]
  },
  {
   "cell_type": "markdown",
   "metadata": {},
   "source": [
    "<h2>Wroclaw</h2>"
   ]
  },
  {
   "cell_type": "code",
   "execution_count": 61,
   "metadata": {},
   "outputs": [
    {
     "data": {
      "text/plain": [
       "array([0, 0, 0, 1, 0, 0, 0, 0])"
      ]
     },
     "execution_count": 61,
     "metadata": {},
     "output_type": "execute_result"
    }
   ],
   "source": [
    "df_cluster = df_wroclaw.drop(['Name','Address', 'VenueID'], 1)\n",
    "kclusters = 2\n",
    "kmeans = KMeans(n_clusters=kclusters, random_state=0).fit(df_cluster)\n",
    "kmeans.labels_[0:13]"
   ]
  },
  {
   "cell_type": "code",
   "execution_count": 62,
   "metadata": {},
   "outputs": [
    {
     "data": {
      "text/html": [
       "<div>\n",
       "<style scoped>\n",
       "    .dataframe tbody tr th:only-of-type {\n",
       "        vertical-align: middle;\n",
       "    }\n",
       "\n",
       "    .dataframe tbody tr th {\n",
       "        vertical-align: top;\n",
       "    }\n",
       "\n",
       "    .dataframe thead th {\n",
       "        text-align: right;\n",
       "    }\n",
       "</style>\n",
       "<table border=\"1\" class=\"dataframe\">\n",
       "  <thead>\n",
       "    <tr style=\"text-align: right;\">\n",
       "      <th></th>\n",
       "      <th>Cluster Labels</th>\n",
       "      <th>Name</th>\n",
       "      <th>Address</th>\n",
       "      <th>VenueID</th>\n",
       "      <th>Lat</th>\n",
       "      <th>Lng</th>\n",
       "    </tr>\n",
       "  </thead>\n",
       "  <tbody>\n",
       "    <tr>\n",
       "      <th>0</th>\n",
       "      <td>0</td>\n",
       "      <td>Stary Klasztor</td>\n",
       "      <td>Purkyniego 1</td>\n",
       "      <td>534d7cac498e13239c12165c</td>\n",
       "      <td>51.109994</td>\n",
       "      <td>17.039282</td>\n",
       "    </tr>\n",
       "    <tr>\n",
       "      <th>1</th>\n",
       "      <td>0</td>\n",
       "      <td>Hard Rock Cafe Wroclaw</td>\n",
       "      <td>Rynek 25</td>\n",
       "      <td>5ab3ffaf12f0a96fa8094726</td>\n",
       "      <td>51.109121</td>\n",
       "      <td>17.032220</td>\n",
       "    </tr>\n",
       "  </tbody>\n",
       "</table>\n",
       "</div>"
      ],
      "text/plain": [
       "   Cluster Labels                    Name       Address  \\\n",
       "0               0          Stary Klasztor  Purkyniego 1   \n",
       "1               0  Hard Rock Cafe Wroclaw      Rynek 25   \n",
       "\n",
       "                    VenueID        Lat        Lng  \n",
       "0  534d7cac498e13239c12165c  51.109994  17.039282  \n",
       "1  5ab3ffaf12f0a96fa8094726  51.109121  17.032220  "
      ]
     },
     "execution_count": 62,
     "metadata": {},
     "output_type": "execute_result"
    }
   ],
   "source": [
    "df_wroclaw.insert(0, 'Cluster Labels', kmeans.labels_)\n",
    "df_wroclaw.head(2)"
   ]
  },
  {
   "cell_type": "code",
   "execution_count": 63,
   "metadata": {},
   "outputs": [
    {
     "data": {
      "text/html": [
       "<div style=\"width:100%;\"><div style=\"position:relative;width:100%;height:0;padding-bottom:60%;\"><iframe src=\"data:text/html;charset=utf-8;base64,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\" style=\"position:absolute;width:100%;height:100%;left:0;top:0;border:none !important;\" allowfullscreen webkitallowfullscreen mozallowfullscreen></iframe></div></div>"
      ],
      "text/plain": [
       "<folium.folium.Map at 0x2a1a82c86d8>"
      ]
     },
     "execution_count": 63,
     "metadata": {},
     "output_type": "execute_result"
    }
   ],
   "source": [
    "# create map\n",
    "latitude=df_wroclaw['Lat'].mean()\n",
    "longitude=df_wroclaw['Lng'].mean()\n",
    "map_clusters = folium.Map(location=[latitude, longitude], zoom_start=13)\n",
    "\n",
    "# set color scheme for the clusters\n",
    "x = np.arange(kclusters)\n",
    "ys = [i + x + (i*x)**2 for i in range(kclusters)]\n",
    "colors_array = cm.rainbow(np.linspace(0, 1, len(ys)))\n",
    "rainbow = [colors.rgb2hex(i) for i in colors_array]\n",
    "\n",
    "# add markers to the map\n",
    "markers_colors = []\n",
    "for lat, lon, cluster in zip(df_wroclaw['Lat'], df_wroclaw['Lng'],  df_wroclaw['Cluster Labels']):\n",
    "    label = folium.Popup(' Cluster ' + str(cluster), parse_html=True)\n",
    "    folium.CircleMarker(\n",
    "        [lat, lon],\n",
    "        radius=5,\n",
    "        popup=label,\n",
    "        color=rainbow[cluster-1],\n",
    "        fill=True,\n",
    "        fill_color=rainbow[cluster-1],\n",
    "        fill_opacity=0.7).add_to(map_clusters)\n",
    "       \n",
    "map_clusters"
   ]
  },
  {
   "cell_type": "code",
   "execution_count": 64,
   "metadata": {},
   "outputs": [
    {
     "data": {
      "text/plain": [
       "0    7\n",
       "1    1\n",
       "Name: Cluster Labels, dtype: int64"
      ]
     },
     "execution_count": 64,
     "metadata": {},
     "output_type": "execute_result"
    }
   ],
   "source": [
    "df_wroclaw['Cluster Labels'].value_counts()"
   ]
  },
  {
   "cell_type": "markdown",
   "metadata": {},
   "source": [
    "Cluster 0 will be considered"
   ]
  },
  {
   "cell_type": "code",
   "execution_count": 65,
   "metadata": {},
   "outputs": [
    {
     "data": {
      "text/html": [
       "<div>\n",
       "<style scoped>\n",
       "    .dataframe tbody tr th:only-of-type {\n",
       "        vertical-align: middle;\n",
       "    }\n",
       "\n",
       "    .dataframe tbody tr th {\n",
       "        vertical-align: top;\n",
       "    }\n",
       "\n",
       "    .dataframe thead th {\n",
       "        text-align: right;\n",
       "    }\n",
       "</style>\n",
       "<table border=\"1\" class=\"dataframe\">\n",
       "  <thead>\n",
       "    <tr style=\"text-align: right;\">\n",
       "      <th></th>\n",
       "      <th>Cluster Labels</th>\n",
       "      <th>Name</th>\n",
       "      <th>Address</th>\n",
       "      <th>VenueID</th>\n",
       "      <th>Lat</th>\n",
       "      <th>Lng</th>\n",
       "    </tr>\n",
       "  </thead>\n",
       "  <tbody>\n",
       "    <tr>\n",
       "      <th>0</th>\n",
       "      <td>0</td>\n",
       "      <td>Stary Klasztor</td>\n",
       "      <td>Purkyniego 1</td>\n",
       "      <td>534d7cac498e13239c12165c</td>\n",
       "      <td>51.109994</td>\n",
       "      <td>17.039282</td>\n",
       "    </tr>\n",
       "    <tr>\n",
       "      <th>1</th>\n",
       "      <td>0</td>\n",
       "      <td>Hard Rock Cafe Wroclaw</td>\n",
       "      <td>Rynek 25</td>\n",
       "      <td>5ab3ffaf12f0a96fa8094726</td>\n",
       "      <td>51.109121</td>\n",
       "      <td>17.032220</td>\n",
       "    </tr>\n",
       "    <tr>\n",
       "      <th>2</th>\n",
       "      <td>0</td>\n",
       "      <td>Vertigo</td>\n",
       "      <td>Oławska 13</td>\n",
       "      <td>54e10b6f498edfbffd4e1f88</td>\n",
       "      <td>51.108448</td>\n",
       "      <td>17.035366</td>\n",
       "    </tr>\n",
       "    <tr>\n",
       "      <th>4</th>\n",
       "      <td>0</td>\n",
       "      <td>Collosseum Jazz Caffe</td>\n",
       "      <td>Piotra Skargi 18a</td>\n",
       "      <td>4ecfe76a4690a03b5cc22e38</td>\n",
       "      <td>51.104830</td>\n",
       "      <td>17.038810</td>\n",
       "    </tr>\n",
       "    <tr>\n",
       "      <th>5</th>\n",
       "      <td>0</td>\n",
       "      <td>Empik</td>\n",
       "      <td>Piłsudskiego 105</td>\n",
       "      <td>54ae938f498e961bab71424b</td>\n",
       "      <td>51.098820</td>\n",
       "      <td>17.036112</td>\n",
       "    </tr>\n",
       "    <tr>\n",
       "      <th>6</th>\n",
       "      <td>0</td>\n",
       "      <td>Liverpool Klub Muzyczny</td>\n",
       "      <td>Świdnicka 37</td>\n",
       "      <td>4e2a10bbb3ade3b5be082dcd</td>\n",
       "      <td>51.104076</td>\n",
       "      <td>17.030501</td>\n",
       "    </tr>\n",
       "    <tr>\n",
       "      <th>7</th>\n",
       "      <td>0</td>\n",
       "      <td>Ragtime</td>\n",
       "      <td>Traugutta 15</td>\n",
       "      <td>50d33e4ae4b06fcefcbfda6f</td>\n",
       "      <td>51.106121</td>\n",
       "      <td>17.043741</td>\n",
       "    </tr>\n",
       "  </tbody>\n",
       "</table>\n",
       "</div>"
      ],
      "text/plain": [
       "   Cluster Labels                     Name            Address  \\\n",
       "0               0           Stary Klasztor       Purkyniego 1   \n",
       "1               0   Hard Rock Cafe Wroclaw           Rynek 25   \n",
       "2               0                  Vertigo         Oławska 13   \n",
       "4               0    Collosseum Jazz Caffe  Piotra Skargi 18a   \n",
       "5               0                    Empik   Piłsudskiego 105   \n",
       "6               0  Liverpool Klub Muzyczny       Świdnicka 37   \n",
       "7               0                  Ragtime       Traugutta 15   \n",
       "\n",
       "                    VenueID        Lat        Lng  \n",
       "0  534d7cac498e13239c12165c  51.109994  17.039282  \n",
       "1  5ab3ffaf12f0a96fa8094726  51.109121  17.032220  \n",
       "2  54e10b6f498edfbffd4e1f88  51.108448  17.035366  \n",
       "4  4ecfe76a4690a03b5cc22e38  51.104830  17.038810  \n",
       "5  54ae938f498e961bab71424b  51.098820  17.036112  \n",
       "6  4e2a10bbb3ade3b5be082dcd  51.104076  17.030501  \n",
       "7  50d33e4ae4b06fcefcbfda6f  51.106121  17.043741  "
      ]
     },
     "execution_count": 65,
     "metadata": {},
     "output_type": "execute_result"
    }
   ],
   "source": [
    "df_wroclaw_fin = df_wroclaw.loc[df_wroclaw['Cluster Labels'] == 0]\n",
    "df_wroclaw_fin"
   ]
  },
  {
   "cell_type": "code",
   "execution_count": 66,
   "metadata": {},
   "outputs": [
    {
     "data": {
      "text/html": [
       "<div style=\"width:100%;\"><div style=\"position:relative;width:100%;height:0;padding-bottom:60%;\"><iframe src=\"data:text/html;charset=utf-8;base64,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\" style=\"position:absolute;width:100%;height:100%;left:0;top:0;border:none !important;\" allowfullscreen webkitallowfullscreen mozallowfullscreen></iframe></div></div>"
      ],
      "text/plain": [
       "<folium.folium.Map at 0x2a1a9368400>"
      ]
     },
     "execution_count": 66,
     "metadata": {},
     "output_type": "execute_result"
    }
   ],
   "source": [
    "# create map\n",
    "latitude=df_wroclaw_fin['Lat'].mean()\n",
    "longitude=df_wroclaw_fin['Lng'].mean()\n",
    "map_clusters = folium.Map(location=[latitude, longitude], zoom_start=15)\n",
    "\n",
    "# set color scheme for the clusters\n",
    "#x = np.arange(kclusters)\n",
    "#ys = [i + x + (i*x)**2 for i in range(kclusters)]\n",
    "#colors_array = cm.rainbow(np.linspace(0, 1, len(ys)))\n",
    "#rainbow = [colors.rgb2hex(i) for i in colors_array]\n",
    "\n",
    "# add markers to the map\n",
    "markers_colors = []\n",
    "for lat, lon in zip(df_wroclaw_fin['Lat'], df_wroclaw_fin['Lng']):\n",
    "    folium.CircleMarker(\n",
    "        [lat, lon],\n",
    "        radius=5,\n",
    "        #popup=label,\n",
    "        #color='red',\n",
    "        fill=True,\n",
    "        #fill_color=rainbow[cluster-1],\n",
    "        fill_opacity=0.7).add_to(map_clusters)\n",
    "       \n",
    "map_clusters"
   ]
  },
  {
   "cell_type": "code",
   "execution_count": 67,
   "metadata": {},
   "outputs": [
    {
     "name": "stdout",
     "output_type": "stream",
     "text": [
      "The mean Manhattan distance between points equals 0.018515505642407275\n"
     ]
    }
   ],
   "source": [
    "distance_wroclaw = pdist(df_cluster, 'cityblock')\n",
    "print('The mean Manhattan distance between points equals ' + str(distance_wroclaw.mean()))"
   ]
  },
  {
   "cell_type": "code",
   "execution_count": 68,
   "metadata": {},
   "outputs": [
    {
     "name": "stdout",
     "output_type": "stream",
     "text": [
      "8.2\n",
      "7.0\n",
      "6.7\n",
      "6.4\n",
      "6.1\n",
      "5.8\n"
     ]
    },
    {
     "ename": "KeyError",
     "evalue": "'rating'",
     "output_type": "error",
     "traceback": [
      "\u001b[1;31m---------------------------------------------------------------------------\u001b[0m",
      "\u001b[1;31mKeyError\u001b[0m                                  Traceback (most recent call last)",
      "\u001b[1;32m<ipython-input-68-f29e6db23514>\u001b[0m in \u001b[0;36m<module>\u001b[1;34m()\u001b[0m\n\u001b[0;32m      9\u001b[0m         ) \n\u001b[0;32m     10\u001b[0m     \u001b[0mresults\u001b[0m \u001b[1;33m=\u001b[0m \u001b[0mgrab\u001b[0m \u001b[1;33m=\u001b[0m \u001b[0mrequests\u001b[0m\u001b[1;33m.\u001b[0m\u001b[0mget\u001b[0m\u001b[1;33m(\u001b[0m\u001b[0mURL\u001b[0m\u001b[1;33m)\u001b[0m\u001b[1;33m.\u001b[0m\u001b[0mjson\u001b[0m\u001b[1;33m(\u001b[0m\u001b[1;33m)\u001b[0m\u001b[1;33m\u001b[0m\u001b[0m\n\u001b[1;32m---> 11\u001b[1;33m     \u001b[0mrate\u001b[0m \u001b[1;33m=\u001b[0m \u001b[0mresults\u001b[0m\u001b[1;33m[\u001b[0m\u001b[1;34m'response'\u001b[0m\u001b[1;33m]\u001b[0m\u001b[1;33m[\u001b[0m\u001b[1;34m'venue'\u001b[0m\u001b[1;33m]\u001b[0m\u001b[1;33m[\u001b[0m\u001b[1;34m'rating'\u001b[0m\u001b[1;33m]\u001b[0m\u001b[1;33m\u001b[0m\u001b[0m\n\u001b[0m\u001b[0;32m     12\u001b[0m     \u001b[0mratings\u001b[0m\u001b[1;33m[\u001b[0m\u001b[0mid\u001b[0m\u001b[1;33m]\u001b[0m\u001b[1;33m=\u001b[0m\u001b[0mrate\u001b[0m\u001b[1;33m\u001b[0m\u001b[0m\n\u001b[0;32m     13\u001b[0m     \u001b[0mi\u001b[0m\u001b[1;33m=\u001b[0m\u001b[0mi\u001b[0m\u001b[1;33m+\u001b[0m\u001b[1;36m1\u001b[0m\u001b[1;33m\u001b[0m\u001b[0m\n",
      "\u001b[1;31mKeyError\u001b[0m: 'rating'"
     ]
    }
   ],
   "source": [
    "ratings={}\n",
    "i=0\n",
    "for id in df_wroclaw_fin['VenueID']:\n",
    "    URL = 'https://api.foursquare.com/v2/venues/{}?&client_id={}&client_secret={}&v={}'.format(\n",
    "        id,\n",
    "        CLIENT_ID, \n",
    "        CLIENT_SECRET, \n",
    "        VERSION, \n",
    "        ) \n",
    "    results = grab = requests.get(URL).json()\n",
    "    rate = results['response']['venue']['rating']\n",
    "    ratings[id]=rate\n",
    "    i=i+1\n",
    "    print(results['response']['venue']['rating'])"
   ]
  },
  {
   "cell_type": "code",
   "execution_count": 69,
   "metadata": {},
   "outputs": [
    {
     "name": "stderr",
     "output_type": "stream",
     "text": [
      "D:\\Anaconda\\lib\\site-packages\\ipykernel_launcher.py:1: SettingWithCopyWarning: \n",
      "A value is trying to be set on a copy of a slice from a DataFrame.\n",
      "Try using .loc[row_indexer,col_indexer] = value instead\n",
      "\n",
      "See the caveats in the documentation: http://pandas.pydata.org/pandas-docs/stable/indexing.html#indexing-view-versus-copy\n",
      "  \"\"\"Entry point for launching an IPython kernel.\n"
     ]
    },
    {
     "data": {
      "text/html": [
       "<div>\n",
       "<style scoped>\n",
       "    .dataframe tbody tr th:only-of-type {\n",
       "        vertical-align: middle;\n",
       "    }\n",
       "\n",
       "    .dataframe tbody tr th {\n",
       "        vertical-align: top;\n",
       "    }\n",
       "\n",
       "    .dataframe thead th {\n",
       "        text-align: right;\n",
       "    }\n",
       "</style>\n",
       "<table border=\"1\" class=\"dataframe\">\n",
       "  <thead>\n",
       "    <tr style=\"text-align: right;\">\n",
       "      <th></th>\n",
       "      <th>Cluster Labels</th>\n",
       "      <th>Name</th>\n",
       "      <th>Address</th>\n",
       "      <th>VenueID</th>\n",
       "      <th>Lat</th>\n",
       "      <th>Lng</th>\n",
       "      <th>Rating</th>\n",
       "    </tr>\n",
       "  </thead>\n",
       "  <tbody>\n",
       "    <tr>\n",
       "      <th>0</th>\n",
       "      <td>0</td>\n",
       "      <td>Stary Klasztor</td>\n",
       "      <td>Purkyniego 1</td>\n",
       "      <td>534d7cac498e13239c12165c</td>\n",
       "      <td>51.109994</td>\n",
       "      <td>17.039282</td>\n",
       "      <td>8.2</td>\n",
       "    </tr>\n",
       "    <tr>\n",
       "      <th>1</th>\n",
       "      <td>0</td>\n",
       "      <td>Hard Rock Cafe Wroclaw</td>\n",
       "      <td>Rynek 25</td>\n",
       "      <td>5ab3ffaf12f0a96fa8094726</td>\n",
       "      <td>51.109121</td>\n",
       "      <td>17.032220</td>\n",
       "      <td>7.0</td>\n",
       "    </tr>\n",
       "    <tr>\n",
       "      <th>2</th>\n",
       "      <td>0</td>\n",
       "      <td>Vertigo</td>\n",
       "      <td>Oławska 13</td>\n",
       "      <td>54e10b6f498edfbffd4e1f88</td>\n",
       "      <td>51.108448</td>\n",
       "      <td>17.035366</td>\n",
       "      <td>6.7</td>\n",
       "    </tr>\n",
       "    <tr>\n",
       "      <th>4</th>\n",
       "      <td>0</td>\n",
       "      <td>Collosseum Jazz Caffe</td>\n",
       "      <td>Piotra Skargi 18a</td>\n",
       "      <td>4ecfe76a4690a03b5cc22e38</td>\n",
       "      <td>51.104830</td>\n",
       "      <td>17.038810</td>\n",
       "      <td>6.4</td>\n",
       "    </tr>\n",
       "    <tr>\n",
       "      <th>5</th>\n",
       "      <td>0</td>\n",
       "      <td>Empik</td>\n",
       "      <td>Piłsudskiego 105</td>\n",
       "      <td>54ae938f498e961bab71424b</td>\n",
       "      <td>51.098820</td>\n",
       "      <td>17.036112</td>\n",
       "      <td>6.1</td>\n",
       "    </tr>\n",
       "    <tr>\n",
       "      <th>6</th>\n",
       "      <td>0</td>\n",
       "      <td>Liverpool Klub Muzyczny</td>\n",
       "      <td>Świdnicka 37</td>\n",
       "      <td>4e2a10bbb3ade3b5be082dcd</td>\n",
       "      <td>51.104076</td>\n",
       "      <td>17.030501</td>\n",
       "      <td>5.8</td>\n",
       "    </tr>\n",
       "    <tr>\n",
       "      <th>7</th>\n",
       "      <td>0</td>\n",
       "      <td>Ragtime</td>\n",
       "      <td>Traugutta 15</td>\n",
       "      <td>50d33e4ae4b06fcefcbfda6f</td>\n",
       "      <td>51.106121</td>\n",
       "      <td>17.043741</td>\n",
       "      <td>NaN</td>\n",
       "    </tr>\n",
       "  </tbody>\n",
       "</table>\n",
       "</div>"
      ],
      "text/plain": [
       "   Cluster Labels                     Name            Address  \\\n",
       "0               0           Stary Klasztor       Purkyniego 1   \n",
       "1               0   Hard Rock Cafe Wroclaw           Rynek 25   \n",
       "2               0                  Vertigo         Oławska 13   \n",
       "4               0    Collosseum Jazz Caffe  Piotra Skargi 18a   \n",
       "5               0                    Empik   Piłsudskiego 105   \n",
       "6               0  Liverpool Klub Muzyczny       Świdnicka 37   \n",
       "7               0                  Ragtime       Traugutta 15   \n",
       "\n",
       "                    VenueID        Lat        Lng  Rating  \n",
       "0  534d7cac498e13239c12165c  51.109994  17.039282     8.2  \n",
       "1  5ab3ffaf12f0a96fa8094726  51.109121  17.032220     7.0  \n",
       "2  54e10b6f498edfbffd4e1f88  51.108448  17.035366     6.7  \n",
       "4  4ecfe76a4690a03b5cc22e38  51.104830  17.038810     6.4  \n",
       "5  54ae938f498e961bab71424b  51.098820  17.036112     6.1  \n",
       "6  4e2a10bbb3ade3b5be082dcd  51.104076  17.030501     5.8  \n",
       "7  50d33e4ae4b06fcefcbfda6f  51.106121  17.043741     NaN  "
      ]
     },
     "execution_count": 69,
     "metadata": {},
     "output_type": "execute_result"
    }
   ],
   "source": [
    "df_wroclaw_fin['Rating']=df_wroclaw_fin['VenueID'].map(ratings)\n",
    "df_wroclaw_fin"
   ]
  },
  {
   "cell_type": "code",
   "execution_count": 71,
   "metadata": {},
   "outputs": [
    {
     "name": "stdout",
     "output_type": "stream",
     "text": [
      "Number of selected venues in Cracow 10 with mean distance 0.024830518334050092\n",
      "Number of selected venues in Poznan 2 with mean distance 0.02106487912992989\n",
      "Number of selected venues in Warsaw 15 with mean distance 0.05948023894761677\n",
      "Number of selected venues in Wroclaw 7 with mean distance 0.018515505642407275\n"
     ]
    }
   ],
   "source": [
    "print('Number of selected venues in Cracow ' + str(df_cracow_fin.shape[0]) + ' with mean distance ' + str(distance_cracow.mean()))\n",
    "print('Number of selected venues in Poznan ' + str(df_poznan_fin.shape[0]) + ' with mean distance ' + str(distance_poznan.mean()))\n",
    "print('Number of selected venues in Warsaw ' + str(df_warsaw_fin.shape[0]) + ' with mean distance ' + str(distance_warsaw.mean()))\n",
    "print('Number of selected venues in Wroclaw ' + str(df_wroclaw_fin.shape[0]) + ' with mean distance ' + str(distance_wroclaw.mean()))"
   ]
  },
  {
   "cell_type": "markdown",
   "metadata": {},
   "source": [
    "<h2>Battle of ratings </h2>"
   ]
  },
  {
   "cell_type": "code",
   "execution_count": 70,
   "metadata": {},
   "outputs": [],
   "source": [
    "col_names = ['RatingCracow','RatingPoznan', 'RatingWarsaw' ,'RatingWroclaw']\n",
    "df_stats = pd.DataFrame(columns=col_names)"
   ]
  },
  {
   "cell_type": "code",
   "execution_count": 72,
   "metadata": {},
   "outputs": [],
   "source": [
    "df_stats['RatingCracow']= df_cracow_fin['Rating']\n",
    "df_stats['RatingPoznan']= df_poznan_fin['Rating']\n",
    "df_stats['RatingWarsaw']= df_warsaw_fin['Rating']\n",
    "df_stats['RatingWroclaw']= df_wroclaw_fin['Rating']"
   ]
  },
  {
   "cell_type": "code",
   "execution_count": 73,
   "metadata": {},
   "outputs": [
    {
     "data": {
      "text/html": [
       "<div>\n",
       "<style scoped>\n",
       "    .dataframe tbody tr th:only-of-type {\n",
       "        vertical-align: middle;\n",
       "    }\n",
       "\n",
       "    .dataframe tbody tr th {\n",
       "        vertical-align: top;\n",
       "    }\n",
       "\n",
       "    .dataframe thead th {\n",
       "        text-align: right;\n",
       "    }\n",
       "</style>\n",
       "<table border=\"1\" class=\"dataframe\">\n",
       "  <thead>\n",
       "    <tr style=\"text-align: right;\">\n",
       "      <th></th>\n",
       "      <th>RatingCracow</th>\n",
       "      <th>RatingPoznan</th>\n",
       "      <th>RatingWarsaw</th>\n",
       "      <th>RatingWroclaw</th>\n",
       "    </tr>\n",
       "  </thead>\n",
       "  <tbody>\n",
       "    <tr>\n",
       "      <th>0</th>\n",
       "      <td>7.9</td>\n",
       "      <td>NaN</td>\n",
       "      <td>7.9</td>\n",
       "      <td>8.2</td>\n",
       "    </tr>\n",
       "    <tr>\n",
       "      <th>1</th>\n",
       "      <td>7.9</td>\n",
       "      <td>6.8</td>\n",
       "      <td>8.0</td>\n",
       "      <td>7.0</td>\n",
       "    </tr>\n",
       "    <tr>\n",
       "      <th>2</th>\n",
       "      <td>8.1</td>\n",
       "      <td>NaN</td>\n",
       "      <td>7.7</td>\n",
       "      <td>6.7</td>\n",
       "    </tr>\n",
       "    <tr>\n",
       "      <th>3</th>\n",
       "      <td>7.4</td>\n",
       "      <td>NaN</td>\n",
       "      <td>NaN</td>\n",
       "      <td>NaN</td>\n",
       "    </tr>\n",
       "    <tr>\n",
       "      <th>4</th>\n",
       "      <td>6.8</td>\n",
       "      <td>NaN</td>\n",
       "      <td>NaN</td>\n",
       "      <td>6.4</td>\n",
       "    </tr>\n",
       "    <tr>\n",
       "      <th>5</th>\n",
       "      <td>6.5</td>\n",
       "      <td>NaN</td>\n",
       "      <td>7.2</td>\n",
       "      <td>6.1</td>\n",
       "    </tr>\n",
       "    <tr>\n",
       "      <th>7</th>\n",
       "      <td>6.3</td>\n",
       "      <td>NaN</td>\n",
       "      <td>NaN</td>\n",
       "      <td>NaN</td>\n",
       "    </tr>\n",
       "    <tr>\n",
       "      <th>8</th>\n",
       "      <td>6.3</td>\n",
       "      <td>NaN</td>\n",
       "      <td>NaN</td>\n",
       "      <td>NaN</td>\n",
       "    </tr>\n",
       "    <tr>\n",
       "      <th>10</th>\n",
       "      <td>5.9</td>\n",
       "      <td>NaN</td>\n",
       "      <td>5.8</td>\n",
       "      <td>NaN</td>\n",
       "    </tr>\n",
       "    <tr>\n",
       "      <th>11</th>\n",
       "      <td>5.8</td>\n",
       "      <td>NaN</td>\n",
       "      <td>NaN</td>\n",
       "      <td>NaN</td>\n",
       "    </tr>\n",
       "  </tbody>\n",
       "</table>\n",
       "</div>"
      ],
      "text/plain": [
       "    RatingCracow  RatingPoznan  RatingWarsaw  RatingWroclaw\n",
       "0            7.9           NaN           7.9            8.2\n",
       "1            7.9           6.8           8.0            7.0\n",
       "2            8.1           NaN           7.7            6.7\n",
       "3            7.4           NaN           NaN            NaN\n",
       "4            6.8           NaN           NaN            6.4\n",
       "5            6.5           NaN           7.2            6.1\n",
       "7            6.3           NaN           NaN            NaN\n",
       "8            6.3           NaN           NaN            NaN\n",
       "10           5.9           NaN           5.8            NaN\n",
       "11           5.8           NaN           NaN            NaN"
      ]
     },
     "execution_count": 73,
     "metadata": {},
     "output_type": "execute_result"
    }
   ],
   "source": [
    "df_stats"
   ]
  },
  {
   "cell_type": "code",
   "execution_count": 74,
   "metadata": {},
   "outputs": [
    {
     "data": {
      "text/html": [
       "<div>\n",
       "<style scoped>\n",
       "    .dataframe tbody tr th:only-of-type {\n",
       "        vertical-align: middle;\n",
       "    }\n",
       "\n",
       "    .dataframe tbody tr th {\n",
       "        vertical-align: top;\n",
       "    }\n",
       "\n",
       "    .dataframe thead th {\n",
       "        text-align: right;\n",
       "    }\n",
       "</style>\n",
       "<table border=\"1\" class=\"dataframe\">\n",
       "  <thead>\n",
       "    <tr style=\"text-align: right;\">\n",
       "      <th></th>\n",
       "      <th>RatingCracow</th>\n",
       "      <th>RatingPoznan</th>\n",
       "      <th>RatingWarsaw</th>\n",
       "      <th>RatingWroclaw</th>\n",
       "    </tr>\n",
       "  </thead>\n",
       "  <tbody>\n",
       "    <tr>\n",
       "      <th>count</th>\n",
       "      <td>10.000000</td>\n",
       "      <td>1.0</td>\n",
       "      <td>5.000000</td>\n",
       "      <td>5.000000</td>\n",
       "    </tr>\n",
       "    <tr>\n",
       "      <th>mean</th>\n",
       "      <td>6.890000</td>\n",
       "      <td>6.8</td>\n",
       "      <td>7.320000</td>\n",
       "      <td>6.880000</td>\n",
       "    </tr>\n",
       "    <tr>\n",
       "      <th>std</th>\n",
       "      <td>0.868524</td>\n",
       "      <td>NaN</td>\n",
       "      <td>0.903881</td>\n",
       "      <td>0.810555</td>\n",
       "    </tr>\n",
       "    <tr>\n",
       "      <th>min</th>\n",
       "      <td>5.800000</td>\n",
       "      <td>6.8</td>\n",
       "      <td>5.800000</td>\n",
       "      <td>6.100000</td>\n",
       "    </tr>\n",
       "    <tr>\n",
       "      <th>25%</th>\n",
       "      <td>6.300000</td>\n",
       "      <td>6.8</td>\n",
       "      <td>7.200000</td>\n",
       "      <td>6.400000</td>\n",
       "    </tr>\n",
       "    <tr>\n",
       "      <th>50%</th>\n",
       "      <td>6.650000</td>\n",
       "      <td>6.8</td>\n",
       "      <td>7.700000</td>\n",
       "      <td>6.700000</td>\n",
       "    </tr>\n",
       "    <tr>\n",
       "      <th>75%</th>\n",
       "      <td>7.775000</td>\n",
       "      <td>6.8</td>\n",
       "      <td>7.900000</td>\n",
       "      <td>7.000000</td>\n",
       "    </tr>\n",
       "    <tr>\n",
       "      <th>max</th>\n",
       "      <td>8.100000</td>\n",
       "      <td>6.8</td>\n",
       "      <td>8.000000</td>\n",
       "      <td>8.200000</td>\n",
       "    </tr>\n",
       "  </tbody>\n",
       "</table>\n",
       "</div>"
      ],
      "text/plain": [
       "       RatingCracow  RatingPoznan  RatingWarsaw  RatingWroclaw\n",
       "count     10.000000           1.0      5.000000       5.000000\n",
       "mean       6.890000           6.8      7.320000       6.880000\n",
       "std        0.868524           NaN      0.903881       0.810555\n",
       "min        5.800000           6.8      5.800000       6.100000\n",
       "25%        6.300000           6.8      7.200000       6.400000\n",
       "50%        6.650000           6.8      7.700000       6.700000\n",
       "75%        7.775000           6.8      7.900000       7.000000\n",
       "max        8.100000           6.8      8.000000       8.200000"
      ]
     },
     "execution_count": 74,
     "metadata": {},
     "output_type": "execute_result"
    }
   ],
   "source": [
    "df_stats.describe()"
   ]
  },
  {
   "cell_type": "code",
   "execution_count": 75,
   "metadata": {},
   "outputs": [
    {
     "data": {
      "image/png": "[encoded data removed]",
      "text/plain": [
       "<matplotlib.figure.Figure at 0x2a1a82ce898>"
      ]
     },
     "metadata": {},
     "output_type": "display_data"
    }
   ],
   "source": [
    "sns.set(style=\"whitegrid\")\n",
    "boxplot1= sns.boxplot(data=df_stats)"
   ]
  },
  {
   "cell_type": "code",
   "execution_count": 78,
   "metadata": {},
   "outputs": [
    {
     "data": {
      "image/png": "[encoded data removed]",
      "text/plain": [
       "<matplotlib.figure.Figure at 0x2a1a94ff908>"
      ]
     },
     "metadata": {},
     "output_type": "display_data"
    }
   ],
   "source": [
    "violinplot = sns.violinplot(data=df_stats)"
   ]
  },
  {
   "cell_type": "code",
   "execution_count": null,
   "metadata": {},
   "outputs": [],
   "source": []
  }
 ],
 "metadata": {
  "kernelspec": {
   "display_name": "Python 3",
   "language": "python",
   "name": "python3"
  },
  "language_info": {
   "codemirror_mode": {
    "name": "ipython",
    "version": 3
   },
   "file_extension": ".py",
   "mimetype": "text/x-python",
   "name": "python",
   "nbconvert_exporter": "python",
   "pygments_lexer": "ipython3",
   "version": "3.6.4"
  }
 },
 "nbformat": 4,
 "nbformat_minor": 2
}
