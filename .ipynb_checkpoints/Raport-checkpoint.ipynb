{
 "cells": [
  {
   "cell_type": "markdown",
   "metadata": {},
   "source": [
    "<h1>The Battle of Neighbourhoods - Week 1 </h1>"
   ]
  },
  {
   "cell_type": "markdown",
   "metadata": {},
   "source": [
    "<h1>Introduction & Business Problem:</h1>"
   ]
  },
  {
   "cell_type": "markdown",
   "metadata": {},
   "source": [
    "<h4>Problem Background:</h4>"
   ]
  },
  {
   "cell_type": "markdown",
   "metadata": {},
   "source": [
    "Being able to express yourself to an audience is important for aspiring musicians. While uploading your tracks to web audience lets you gain publicity, it's just as important to perform live. It might be hard to do if you live in a small city or one without any live music clubs. Analysing foursquare data allows determining what city has the best distribution of music clubs."
   ]
  },
  {
   "cell_type": "markdown",
   "metadata": {},
   "source": [
    "<h4>Problem Description:</h4>"
   ]
  },
  {
   "cell_type": "markdown",
   "metadata": {},
   "source": [
    "An up-and-coming indie music band is looking for a city to move. They decided they will choose one of major Polish cities: Cracow, Poznan, Warsaw or Wroclaw. It's important for them to live in a city where they will have opportunities to play their songs and listen to other fresh music groups.\n",
    "The city with most music venues and musics stores with best spatial distribution and ratings of facilites will win.\n"
   ]
  },
  {
   "cell_type": "markdown",
   "metadata": {},
   "source": [
    "<h4>Target Audience: </h4>"
   ]
  },
  {
   "cell_type": "markdown",
   "metadata": {},
   "source": [
    "Finding the best location for musicians will interest both artists and their audience."
   ]
  },
  {
   "cell_type": "markdown",
   "metadata": {},
   "source": [
    "<h4>Success Criteria:</h4>"
   ]
  },
  {
   "cell_type": "markdown",
   "metadata": {},
   "source": [
    "The success criteria of this project is recommending the best of selected cities based on availability of music venues."
   ]
  },
  {
   "cell_type": "markdown",
   "metadata": {},
   "source": [
    "<h4>Data</h4>"
   ]
  },
  {
   "cell_type": "markdown",
   "metadata": {},
   "source": [
    "This project is based on Foursqare API. The coordinates of each city were specified using *geopy library*.\n",
    "Venues matching defined categories - Jazz and rock clubs, music stores and their details were found using Foursqaure look ups."
   ]
  },
  {
   "cell_type": "markdown",
   "metadata": {},
   "source": [
    "<h4>Data examples</h4>"
   ]
  },
  {
   "cell_type": "markdown",
   "metadata": {},
   "source": [
    "<h3>geopy</h3>"
   ]
  },
  {
   "cell_type": "code",
   "execution_count": 3,
   "metadata": {},
   "outputs": [
    {
     "data": {
      "text/plain": [
       "Location(New York, United States of America, (40.7127281, -74.0060152, 0.0))"
      ]
     },
     "execution_count": 3,
     "metadata": {},
     "output_type": "execute_result"
    }
   ],
   "source": [
    "from geopy.geocoders import Nominatim #import the function\n",
    "geolocator = Nominatim(user_agent=\"capstone\") #define geolocator\n",
    "location = geolocator.geocode('New York City') #look up the city\n",
    "location"
   ]
  },
  {
   "cell_type": "code",
   "execution_count": 4,
   "metadata": {},
   "outputs": [
    {
     "data": {
      "text/plain": [
       "'40.7127281, -74.0060152'"
      ]
     },
     "execution_count": 4,
     "metadata": {},
     "output_type": "execute_result"
    }
   ],
   "source": [
    "latitude = location.latitude\n",
    "longitude = location.longitude\n",
    "\"{}, {}\".format((latitude),(longitude))"
   ]
  },
  {
   "cell_type": "markdown",
   "metadata": {},
   "source": [
    "Thanks to geopy we can easly find needed coordiantes."
   ]
  },
  {
   "cell_type": "markdown",
   "metadata": {},
   "source": [
    "<h3>Foursqare</h3>"
   ]
  },
  {
   "cell_type": "code",
   "execution_count": 7,
   "metadata": {},
   "outputs": [
    {
     "name": "stdout",
     "output_type": "stream",
     "text": [
      "Your credentails:\n",
      "CLIENT_ID: JQYNPSOQXI12NK311020I2K4FAKMKEDV25CMLKTGSEUEVMUR\n",
      "CLIENT_SECRET:XRECAKXLEOK324BN2Z3KDYNK1NBJ3UDYYS45PQAJ2LIM0BFX\n"
     ]
    }
   ],
   "source": [
    "import numpy as np # library to handle data in a vectorized manner\n",
    "import pandas as pd # library for data analsysis\n",
    "import requests # library to handle requests\n",
    "from pandas.io.json import json_normalize # tranform JSON file into a pandas dataframe\n",
    "###\n",
    "CLIENT_ID = 'JQYNPSOQXI12NK311020I2K4FAKMKEDV25CMLKTGSEUEVMUR' # your Foursquare ID\n",
    "CLIENT_SECRET = 'XRECAKXLEOK324BN2Z3KDYNK1NBJ3UDYYS45PQAJ2LIM0BFX' # your Foursquare Secret\n",
    "VERSION = '20180605' # Foursquare API version\n",
    "\n",
    "print('Your credentails:')\n",
    "print('CLIENT_ID: ' + CLIENT_ID)\n",
    "print('CLIENT_SECRET:' + CLIENT_SECRET)\n",
    "###\n",
    "LIMIT = 100 \n",
    "cities = ['Cracow']\n",
    "results = {}\n",
    "for city in cities:\n",
    "    url = 'https://api.foursquare.com/v2/venues/explore?&client_id={}&client_secret={}&v={}&near={}&limit={}&categoryId={}'.format(\n",
    "        CLIENT_ID, \n",
    "        CLIENT_SECRET, \n",
    "        VERSION, \n",
    "        city,\n",
    "        LIMIT,\n",
    "        \"4bf58dd8d48988d1e7931735,4bf58dd8d48988d1e9931735\") \n",
    "    results[city] = requests.get(url).json()\n",
    "df_venues={}\n",
    "for city in cities:\n",
    "    venues = json_normalize(results[city]['response']['groups'][0]['items'])\n",
    "    df_venues[city] = venues[['venue.name', 'venue.location.address','venue.id', 'venue.location.lat', 'venue.location.lng']]\n",
    "    df_venues[city].columns = ['Name', 'Address','id', 'Lat', 'Lng']"
   ]
  },
  {
   "cell_type": "code",
   "execution_count": 18,
   "metadata": {},
   "outputs": [
    {
     "data": {
      "text/html": [
       "<div>\n",
       "<style scoped>\n",
       "    .dataframe tbody tr th:only-of-type {\n",
       "        vertical-align: middle;\n",
       "    }\n",
       "\n",
       "    .dataframe tbody tr th {\n",
       "        vertical-align: top;\n",
       "    }\n",
       "\n",
       "    .dataframe thead th {\n",
       "        text-align: right;\n",
       "    }\n",
       "</style>\n",
       "<table border=\"1\" class=\"dataframe\">\n",
       "  <thead>\n",
       "    <tr style=\"text-align: right;\">\n",
       "      <th></th>\n",
       "      <th>Name</th>\n",
       "      <th>Address</th>\n",
       "      <th>id</th>\n",
       "      <th>Lat</th>\n",
       "      <th>Lng</th>\n",
       "    </tr>\n",
       "  </thead>\n",
       "  <tbody>\n",
       "    <tr>\n",
       "      <th>0</th>\n",
       "      <td>Harris Piano Jazz</td>\n",
       "      <td>Rynek Główny 28</td>\n",
       "      <td>4bbf90a2b492d13a4fdfa260</td>\n",
       "      <td>50.061703</td>\n",
       "      <td>19.935660</td>\n",
       "    </tr>\n",
       "    <tr>\n",
       "      <th>1</th>\n",
       "      <td>Jazz Rock Cafe</td>\n",
       "      <td>Sławkowska 12</td>\n",
       "      <td>4befe97724f19c747926f983</td>\n",
       "      <td>50.063866</td>\n",
       "      <td>19.937492</td>\n",
       "    </tr>\n",
       "  </tbody>\n",
       "</table>\n",
       "</div>"
      ],
      "text/plain": [
       "                Name          Address                        id        Lat  \\\n",
       "0  Harris Piano Jazz  Rynek Główny 28  4bbf90a2b492d13a4fdfa260  50.061703   \n",
       "1     Jazz Rock Cafe    Sławkowska 12  4befe97724f19c747926f983  50.063866   \n",
       "\n",
       "         Lng  \n",
       "0  19.935660  \n",
       "1  19.937492  "
      ]
     },
     "execution_count": 18,
     "metadata": {},
     "output_type": "execute_result"
    }
   ],
   "source": [
    "df_venues['Cracow'].head(2)\n",
    "df=df_venues['Cracow']\n",
    "df.head(2)"
   ]
  },
  {
   "cell_type": "markdown",
   "metadata": {},
   "source": [
    "First Foursqare request returns music clubs in defined cities. With ids of the venues we can look up more details about them:"
   ]
  },
  {
   "cell_type": "code",
   "execution_count": 20,
   "metadata": {},
   "outputs": [],
   "source": [
    "lookup_id = df['id'][0]\n",
    "URL='https://api.foursquare.com/v2/venues/{}/tips'.format(lookup_id)\n",
    "venue = requests.get(URL).json()"
   ]
  },
  {
   "cell_type": "code",
   "execution_count": 21,
   "metadata": {},
   "outputs": [],
   "source": [
    "URL = 'https://api.foursquare.com/v2/venues/{}?&client_id={}&client_secret={}&v={}'.format(\n",
    "        lookup_id,\n",
    "        CLIENT_ID, \n",
    "        CLIENT_SECRET, \n",
    "        VERSION, \n",
    "        ) \n",
    "grab = requests.get(URL).json()"
   ]
  },
  {
   "cell_type": "code",
   "execution_count": 22,
   "metadata": {},
   "outputs": [
    {
     "data": {
      "text/plain": [
       "7.9"
      ]
     },
     "execution_count": 22,
     "metadata": {},
     "output_type": "execute_result"
    }
   ],
   "source": [
    "grab['response']['venue']['rating']"
   ]
  },
  {
   "cell_type": "markdown",
   "metadata": {},
   "source": [
    "Location and rating data will be used to determine the best city for young artists."
   ]
  },
  {
   "cell_type": "markdown",
   "metadata": {},
   "source": [
    "<h2>Methodology: </h2>"
   ]
  },
  {
   "cell_type": "markdown",
   "metadata": {},
   "source": [
    "The main objective is to find the city with best music clubs and stores while considering their distribution.\n",
    "In first step information about music-related venues is fetched from FourSquare in each city.\n",
    "Then the venues were clustered by their location - the biggest cluster was considered a representation of a city - the distance within cluster as simplified distribution of the venues and their rating."
   ]
  },
  {
   "cell_type": "markdown",
   "metadata": {},
   "source": [
    "<h2>Results: </h2>"
   ]
  },
  {
   "cell_type": "markdown",
   "metadata": {},
   "source": [
    "<h5>Finding the venues </h5>"
   ]
  },
  {
   "cell_type": "markdown",
   "metadata": {},
   "source": [
    "Cracow:"
   ]
  },
  {
   "cell_type": "markdown",
   "metadata": {},
   "source": [
    "![Venues in Cracow](cracow.png \"Cracow\")"
   ]
  },
  {
   "cell_type": "markdown",
   "metadata": {},
   "source": [
    "There are 15 music clubs and stores in Cracow. Most of them are concentrated old town. There are two single outliers - one far east and one east and a group of three venues Podgorze district."
   ]
  },
  {
   "cell_type": "markdown",
   "metadata": {},
   "source": [
    "Poznan:"
   ]
  },
  {
   "cell_type": "markdown",
   "metadata": {},
   "source": [
    "![Venues in Poznan](poznan.png \"Poznan\")"
   ]
  },
  {
   "cell_type": "markdown",
   "metadata": {},
   "source": [
    "In Poznan there are 5 venues, distributed roughly around straight line."
   ]
  },
  {
   "cell_type": "markdown",
   "metadata": {},
   "source": [
    "Warsaw:"
   ]
  },
  {
   "cell_type": "markdown",
   "metadata": {},
   "source": [
    "![Venues in Warsaw](warsaw.png \"Warsaw\")"
   ]
  },
  {
   "cell_type": "markdown",
   "metadata": {},
   "source": [
    "There are 26 venues in Warsaw, spread out all over the city in different districts, with majority of them in the city centre."
   ]
  },
  {
   "cell_type": "markdown",
   "metadata": {},
   "source": [
    "Wroclaw:"
   ]
  },
  {
   "cell_type": "markdown",
   "metadata": {},
   "source": [
    "![Venues in Wroclaw](wroclaw.png \"Wroclaw\")"
   ]
  },
  {
   "cell_type": "markdown",
   "metadata": {},
   "source": [
    "There are 8 venues of interest in Wroclaw. Their distribution is similar to Cracow's, most of the venues are located close to Old Town district."
   ]
  },
  {
   "cell_type": "markdown",
   "metadata": {},
   "source": [
    "<h5>Clustering</h5>"
   ]
  },
  {
   "cell_type": "markdown",
   "metadata": {},
   "source": [
    "In order to better compare the cities, the venues were clustered using k-means clustering by their location. This allows finding the city with best spatial distribution of venues."
   ]
  },
  {
   "cell_type": "markdown",
   "metadata": {},
   "source": [
    "Cracow:"
   ]
  },
  {
   "cell_type": "markdown",
   "metadata": {},
   "source": [
    "![Clusters in cracow](cracowClusters.png \"Clusters Cracow\")"
   ]
  },
  {
   "cell_type": "markdown",
   "metadata": {},
   "source": [
    "Cracow was divided into 4 clusters, with the most populated containing 10 venues."
   ]
  },
  {
   "cell_type": "markdown",
   "metadata": {},
   "source": [
    "![Winning cluster in cracow](cracowWin.png \"Cracow Winner\")"
   ]
  },
  {
   "cell_type": "markdown",
   "metadata": {},
   "source": [
    "Poznan:"
   ]
  },
  {
   "cell_type": "markdown",
   "metadata": {},
   "source": [
    "![Clusters in Poznan](poznanClusters.png \"Clusters Poznan\")"
   ]
  },
  {
   "cell_type": "markdown",
   "metadata": {},
   "source": [
    "The winning cluster in Poznan has only 2 venues. At this point it's obvious that Poznan is the worst city for the objective of this project."
   ]
  },
  {
   "cell_type": "markdown",
   "metadata": {},
   "source": [
    "![Winning cluster in Poznan](poznanWin.png \"Clusters Poznan\")"
   ]
  },
  {
   "cell_type": "markdown",
   "metadata": {},
   "source": [
    "Warsaw:"
   ]
  },
  {
   "cell_type": "markdown",
   "metadata": {},
   "source": [
    "![Winning cluster in Warsaw](warsawClusters.png \"Clusters Poznan\")"
   ]
  },
  {
   "cell_type": "markdown",
   "metadata": {},
   "source": [
    "The biggest cluster in Warsaw is populated by 15 venues. Warsaw has both most venues overall and when considering the biggest cluster."
   ]
  },
  {
   "cell_type": "markdown",
   "metadata": {},
   "source": [
    "![Winning cluster in Warsaw](warsawWin.png \"Biggest cluster in Warsaw\")"
   ]
  },
  {
   "cell_type": "markdown",
   "metadata": {},
   "source": [
    "Wroclaw:"
   ]
  },
  {
   "cell_type": "markdown",
   "metadata": {},
   "source": [
    "![Clusters in Wroclaw](wroclawClusters.png \"Clusters in Wroclaw\")"
   ]
  },
  {
   "cell_type": "markdown",
   "metadata": {},
   "source": [
    "Biggest cluster in Wroclaw contains 7 venues."
   ]
  },
  {
   "cell_type": "markdown",
   "metadata": {},
   "source": [
    "![Winning cluster in Wroclaw](wroclawWin.png \"Clusters in Wroclaw\")"
   ]
  },
  {
   "cell_type": "markdown",
   "metadata": {},
   "source": [
    "<h5>Distance within clusters </h5>"
   ]
  },
  {
   "cell_type": "markdown",
   "metadata": {},
   "source": [
    "The distance within clusters was calculated using city block distance, as its a more sensible metric than Euclid distance."
   ]
  },
  {
   "cell_type": "markdown",
   "metadata": {},
   "source": [
    "| City    | Number of venues in biggest cluster | Mean distance |\n",
    "|---------|---------|------|\n",
    "| Cracow  | 10      | 0.024|\n",
    "| Poznan  | 2       | 0.021|\n",
    "| Warsaw  | 15      | 0.059|\n",
    "| Wroclaw | 7       | 0.018|"
   ]
  },
  {
   "cell_type": "markdown",
   "metadata": {},
   "source": [
    "<h5>Venue rating in winning clusters </h5>"
   ]
  },
  {
   "cell_type": "markdown",
   "metadata": {},
   "source": [
    "|       | Cracow | Poznan | Warsaw | Wroclaw |\n",
    "|-------|--------|--------|--------|---------|\n",
    "| count | 10     | 1      | 5      | 5       |\n",
    "| mean  | 6.89   | 6.8    | 7.32   | 6.88    |\n",
    "| std   | 0.86   | NaN    | 0.90   | 0.81    |\n",
    "| min   | 5.8    | 6.8    | 5.8    | 6.1     |\n",
    "| 25%   | 6.3    | 6.8    | 7.2    | 6.4     |\n",
    "| 50%   | 6.65   | 6.8    | 7.7    | 6.7     |\n",
    "| 75%   | 7.775  | 6.8    | 7.9    | 7.0     |\n",
    "| max   | 8.1    | 6.8    | 8.0    | 8.2     |"
   ]
  },
  {
   "cell_type": "markdown",
   "metadata": {},
   "source": [
    "A limited number of venues were rated - for example in Warsaw only 5 of venues were rated compared to 15 venues in cluster. In Cracow all venues are rated, meaning there are more City Guide users there than other cities, possibly meaning wider audience."
   ]
  },
  {
   "cell_type": "markdown",
   "metadata": {},
   "source": [
    "![Boxplot](boxplot.png \"Boxplot\")"
   ]
  },
  {
   "cell_type": "markdown",
   "metadata": {},
   "source": [
    "Cracow and Wroclaw are similar in both spatial distribution of venues and their ratings. Cracow has twice as much rated venues as Warsaw and Wroclaw.  The median rating is highest in Warsaw, but it may be skewed by low number of rated venues – results could change when considering rest of the venues in cluster."
   ]
  },
  {
   "cell_type": "markdown",
   "metadata": {},
   "source": [
    "![Violinplot](viol.png \"Violinplot\")"
   ]
  },
  {
   "cell_type": "markdown",
   "metadata": {},
   "source": [
    "Vilion plot shows flatter distributions of venues in Cracaw than in Warsaw or Wroclaw. The distribution in Warsaw is top heavy, while in Wroclaw its bottom heavy."
   ]
  },
  {
   "cell_type": "markdown",
   "metadata": {},
   "source": [
    "<h2> Discussion </h2>"
   ]
  },
  {
   "cell_type": "markdown",
   "metadata": {},
   "source": [
    "Poznan lacks music facilities. Cracow and Wroclaw are similar when considering venues’ location and ratings. \n",
    "\n",
    "While the biggest cluster in Warsaw had 15 venues, only 5 of them were rated, which may indicate that Cracow is more popular among City Guide users. Further characterization of an average City Guide user is needed for more complex conclusions.\n",
    "\n",
    "Based on this analysis, Cracow is the best city for up-and-coming music band. There are many music venues – both clubs and stores with good ratings. Secondary choice is Warsaw – it’s the biggest city in Poland with most venues, but due to limited information rating data is uncertain.\n",
    "While free Foursquare API access gives access to vast amounts of data, query limit can be an issue.\n"
   ]
  },
  {
   "cell_type": "markdown",
   "metadata": {},
   "source": [
    "<h2> Conclusions </h2>"
   ]
  },
  {
   "cell_type": "markdown",
   "metadata": {},
   "source": [
    "The best city for up-and-coming indie music band is Cracow - it has good ammount of quality music clubs and stores and is a popular tourist destination. Close second is Warsaw, thanks to being the biggest city in Poland it has the most venues overall, but not many of them popular among City Guide users.\n",
    "\n",
    "Wroclaw is a smaller city with less venues, but when considering city centre the results were similar to Cracow.\n",
    "\n",
    "Poznan is the worst choice - it simply lacks venues."
   ]
  }
 ],
 "metadata": {
  "kernelspec": {
   "display_name": "Python 3",
   "language": "python",
   "name": "python3"
  },
  "language_info": {
   "codemirror_mode": {
    "name": "ipython",
    "version": 3
   },
   "file_extension": ".py",
   "mimetype": "text/x-python",
   "name": "python",
   "nbconvert_exporter": "python",
   "pygments_lexer": "ipython3",
   "version": "3.6.4"
  }
 },
 "nbformat": 4,
 "nbformat_minor": 2
}
